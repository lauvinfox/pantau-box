{
 "cells": [
  {
   "cell_type": "markdown",
   "id": "848bccc7-2d20-40af-8cce-d0fa2df4e987",
   "metadata": {
    "jp-MarkdownHeadingCollapsed": true,
    "tags": []
   },
   "source": [
    "## Import Library"
   ]
  },
  {
   "cell_type": "code",
   "execution_count": 1,
   "id": "3fc39eff-e9fc-4e8e-b28e-f01a46c11ebc",
   "metadata": {
    "tags": []
   },
   "outputs": [],
   "source": [
    "import tensorflow as tf\n",
    "import numpy as np\n",
    "import matplotlib.pyplot as plt\n",
    "import PIL\n",
    "from PIL import Image\n",
    "import os\n",
    "import cv2"
   ]
  },
  {
   "cell_type": "code",
   "execution_count": 2,
   "id": "4ef8da7e-95d7-47e9-a636-3cfcbf79381b",
   "metadata": {
    "tags": []
   },
   "outputs": [],
   "source": [
    "import keras\n",
    "import keras_vggface\n",
    "import keras_vggface.utils\n",
    "from keras_vggface.vggface import VGGFace\n",
    "from keras import Model\n",
    "from keras import layers\n",
    "from keras.layers import Flatten, Input, Dropout\n",
    "from keras.layers.core import Dense\n",
    "from keras.models import Sequential\n",
    "from keras.losses import SparseCategoricalCrossentropy\n",
    "from keras.optimizers import RMSprop, Adam\n",
    "from keras.preprocessing.image import ImageDataGenerator"
   ]
  },
  {
   "cell_type": "code",
   "execution_count": 3,
   "id": "31f0efa7-4f23-4146-8bfb-4a979e4f946f",
   "metadata": {},
   "outputs": [],
   "source": [
    "import mtcnn\n",
    "from mtcnn.mtcnn import MTCNN\n",
    "from keras_vggface.utils import preprocess_input\n",
    "from scipy.spatial.distance import cosine"
   ]
  },
  {
   "cell_type": "markdown",
   "id": "e30e31db-b7a7-469b-9f3b-972e1ba7b8a9",
   "metadata": {
    "tags": []
   },
   "source": [
    "## Load Pre-trained Model"
   ]
  },
  {
   "cell_type": "code",
   "execution_count": 4,
   "id": "261911ce-391e-4f78-8d7c-069e2e2fb9f1",
   "metadata": {
    "tags": []
   },
   "outputs": [],
   "source": [
    "model = VGGFace(model='resnet50', include_top=False, input_shape=(224, 224, 3))"
   ]
  },
  {
   "cell_type": "code",
   "execution_count": 5,
   "id": "4a037c1b-7988-4b2a-ade8-55ead5221cce",
   "metadata": {
    "tags": []
   },
   "outputs": [],
   "source": [
    "model.trainable = False"
   ]
  },
  {
   "cell_type": "code",
   "execution_count": 6,
   "id": "187f4140-ea77-43b4-a01c-85eceff7d7d2",
   "metadata": {
    "tags": []
   },
   "outputs": [],
   "source": [
    "data_augmentation = keras.Sequential([\n",
    "    keras.layers.RandomFlip('horizontal'),\n",
    "    keras.layers.RandomRotation(0.2),\n",
    "])"
   ]
  },
  {
   "cell_type": "code",
   "execution_count": 7,
   "id": "44203cfa-f345-4f65-9bb7-d6a30dd518c3",
   "metadata": {
    "tags": []
   },
   "outputs": [
    {
     "name": "stdout",
     "output_type": "stream",
     "text": [
      "last layer output shape:  (None, 1, 1, 2048)\n"
     ]
    }
   ],
   "source": [
    "# Choose `avg_pool` as the last layer of your base model\n",
    "last_layer = model.get_layer('avg_pool')\n",
    "print('last layer output shape: ', last_layer.output_shape)\n",
    "last_output = last_layer.output"
   ]
  },
  {
   "cell_type": "code",
   "execution_count": 8,
   "id": "d04b3be9-4821-4945-ae24-09a1996e4a9a",
   "metadata": {
    "tags": []
   },
   "outputs": [],
   "source": [
    "inputs = Input(shape=(224, 224, 3))\n",
    "\n",
    "x = data_augmentation(inputs)\n",
    "x = model(x)\n",
    "x = Flatten(name='flatten')(x)\n",
    "x = Dense(1024, activation='relu', name='fc1')(x)\n",
    "x = Dense(1024, activation='relu', name='fc2')(x)\n",
    "x = Dense(1024, activation='relu', name='fc3')(x) \n",
    "x = Dense(512, activation='relu', name='fc4')(x) \n",
    "x = Dense(512, activation='relu', name='fc5')(x) \n",
    "x = Dense(256, activation='relu', name='fc6')(x)\n",
    "x = Dense(128, activation='relu', name='fc7')(x)\n",
    "x = Dropout(0.2)(x)\n",
    "out = Dense(105, name='classifier')(x)"
   ]
  },
  {
   "cell_type": "code",
   "execution_count": 9,
   "id": "0938b082-a91d-4d3e-af5c-abc655c79667",
   "metadata": {
    "tags": []
   },
   "outputs": [],
   "source": [
    "custom_model = Model(inputs, out)"
   ]
  },
  {
   "cell_type": "markdown",
   "id": "18fd67f0-b1b2-405f-bb24-9fa8473a96e3",
   "metadata": {
    "tags": []
   },
   "source": [
    "## Prepare Dataset"
   ]
  },
  {
   "cell_type": "code",
   "execution_count": 10,
   "id": "f18eec7a-a6f2-4a74-b521-9c126785eed0",
   "metadata": {
    "tags": []
   },
   "outputs": [],
   "source": [
    "# Define our example directories and files\n",
    "base_dir = 'C:\\\\Users\\\\ACER\\\\Capstone\\\\dataset\\\\image_sorted'\n",
    "\n",
    "train_dir = os.path.join( base_dir, 'train')\n",
    "test_dir = os.path.join( base_dir, 'test')"
   ]
  },
  {
   "cell_type": "code",
   "execution_count": 11,
   "id": "f2fc2b71-e778-4911-9902-2ce1c5f630ed",
   "metadata": {
    "tags": []
   },
   "outputs": [
    {
     "name": "stdout",
     "output_type": "stream",
     "text": [
      "Found 4200 files belonging to 105 classes.\n",
      "Found 1050 files belonging to 105 classes.\n"
     ]
    }
   ],
   "source": [
    "train_dataset = keras.utils.image_dataset_from_directory(train_dir,\n",
    "                                                         shuffle=True,\n",
    "                                                         batch_size=8,\n",
    "                                                         image_size=(224, 224))\n",
    "\n",
    "test_dataset = keras.utils.image_dataset_from_directory(test_dir,\n",
    "                                                         shuffle=True,\n",
    "                                                         batch_size=8,\n",
    "                                                         image_size=(224, 224))"
   ]
  },
  {
   "cell_type": "markdown",
   "id": "27e3b0ba-8c5a-4ab0-9d73-871b62a5eb4f",
   "metadata": {
    "tags": []
   },
   "source": [
    "## Set Optimizer and Loss Functions"
   ]
  },
  {
   "cell_type": "code",
   "execution_count": 12,
   "id": "87174834-6b50-486d-993e-d80a75d9867a",
   "metadata": {
    "tags": []
   },
   "outputs": [],
   "source": [
    "learning_rate = 0.0001\n",
    "custom_model.compile(optimizer=RMSprop(learning_rate=learning_rate), \n",
    "                     loss=SparseCategoricalCrossentropy(from_logits=True), \n",
    "                     metrics=['accuracy'])"
   ]
  },
  {
   "cell_type": "markdown",
   "id": "0ad77b64-5285-4031-8f0a-5fcb22359033",
   "metadata": {
    "tags": []
   },
   "source": [
    "## Set Callback"
   ]
  },
  {
   "cell_type": "code",
   "execution_count": 13,
   "id": "b74cff65-105c-4fbe-acf4-325e3549db46",
   "metadata": {
    "tags": []
   },
   "outputs": [],
   "source": [
    "class myCallback(tf.keras.callbacks.Callback):\n",
    "    def on_epoch_end(self, epoch, logs={}):\n",
    "        '''\n",
    "        Halts the training after reaching 60 percent accuracy\n",
    "        \n",
    "        Args:\n",
    "        epoch (integer) - index of epoch (required but unused in the function definition below)\n",
    "        logs (dict) - metric results from the training epoch\n",
    "        '''\n",
    "        # Check accuracy\n",
    "        if(logs.get('loss') < 0.7):\n",
    "            # Stop if threshold is met\n",
    "            print(\"\\nLoss is lower than 0.7 so cancelling training!\")\n",
    "            self.model.stop_training = True\n",
    "\n",
    "# Instantiate class\n",
    "callbacks = myCallback()"
   ]
  },
  {
   "cell_type": "markdown",
   "id": "be27075d-e1fa-4b14-bbd7-5a2f3851e086",
   "metadata": {
    "tags": []
   },
   "source": [
    "## Train Model"
   ]
  },
  {
   "cell_type": "code",
   "execution_count": 14,
   "id": "b733be6f-e427-4031-a8db-69fd81377864",
   "metadata": {
    "tags": []
   },
   "outputs": [
    {
     "name": "stdout",
     "output_type": "stream",
     "text": [
      "Epoch 1/50\n",
      "525/525 - 153s - loss: 4.0137 - accuracy: 0.1233 - val_loss: 1.9053 - val_accuracy: 0.5981 - 153s/epoch - 292ms/step\n",
      "Epoch 2/50\n",
      "525/525 - 153s - loss: 2.4181 - accuracy: 0.4271 - val_loss: 0.7836 - val_accuracy: 0.8162 - 153s/epoch - 292ms/step\n",
      "Epoch 3/50\n",
      "525/525 - 154s - loss: 1.8702 - accuracy: 0.5583 - val_loss: 0.3833 - val_accuracy: 0.9067 - 154s/epoch - 293ms/step\n",
      "Epoch 4/50\n",
      "525/525 - 155s - loss: 1.6569 - accuracy: 0.6052 - val_loss: 0.3262 - val_accuracy: 0.9133 - 155s/epoch - 296ms/step\n",
      "Epoch 5/50\n",
      "525/525 - 157s - loss: 1.5129 - accuracy: 0.6395 - val_loss: 0.2619 - val_accuracy: 0.9305 - 157s/epoch - 298ms/step\n",
      "Epoch 6/50\n",
      "525/525 - 156s - loss: 1.4214 - accuracy: 0.6612 - val_loss: 0.2417 - val_accuracy: 0.9381 - 156s/epoch - 297ms/step\n",
      "Epoch 7/50\n",
      "525/525 - 155s - loss: 1.3415 - accuracy: 0.6783 - val_loss: 0.2392 - val_accuracy: 0.9362 - 155s/epoch - 295ms/step\n",
      "Epoch 8/50\n",
      "525/525 - 156s - loss: 1.2644 - accuracy: 0.7029 - val_loss: 0.2417 - val_accuracy: 0.9390 - 156s/epoch - 297ms/step\n",
      "Epoch 9/50\n",
      "525/525 - 155s - loss: 1.1731 - accuracy: 0.7207 - val_loss: 0.1695 - val_accuracy: 0.9562 - 155s/epoch - 296ms/step\n",
      "Epoch 10/50\n",
      "525/525 - 155s - loss: 1.1705 - accuracy: 0.7240 - val_loss: 0.2054 - val_accuracy: 0.9495 - 155s/epoch - 296ms/step\n",
      "Epoch 11/50\n",
      "525/525 - 155s - loss: 1.1950 - accuracy: 0.7126 - val_loss: 0.2661 - val_accuracy: 0.9448 - 155s/epoch - 296ms/step\n",
      "Epoch 12/50\n",
      "525/525 - 154s - loss: 1.1487 - accuracy: 0.7250 - val_loss: 0.1912 - val_accuracy: 0.9486 - 154s/epoch - 294ms/step\n",
      "Epoch 13/50\n",
      "525/525 - 156s - loss: 1.0850 - accuracy: 0.7402 - val_loss: 0.2475 - val_accuracy: 0.9495 - 156s/epoch - 297ms/step\n",
      "Epoch 14/50\n",
      "525/525 - 156s - loss: 1.0975 - accuracy: 0.7364 - val_loss: 0.2082 - val_accuracy: 0.9543 - 156s/epoch - 297ms/step\n",
      "Epoch 15/50\n",
      "525/525 - 153s - loss: 1.0713 - accuracy: 0.7517 - val_loss: 0.1888 - val_accuracy: 0.9552 - 153s/epoch - 292ms/step\n",
      "Epoch 16/50\n",
      "525/525 - 156s - loss: 1.0225 - accuracy: 0.7521 - val_loss: 0.2293 - val_accuracy: 0.9495 - 156s/epoch - 296ms/step\n",
      "Epoch 17/50\n",
      "525/525 - 163s - loss: 1.0201 - accuracy: 0.7583 - val_loss: 0.1977 - val_accuracy: 0.9600 - 163s/epoch - 310ms/step\n",
      "Epoch 18/50\n",
      "525/525 - 156s - loss: 1.0174 - accuracy: 0.7524 - val_loss: 0.1535 - val_accuracy: 0.9638 - 156s/epoch - 298ms/step\n",
      "Epoch 19/50\n",
      "525/525 - 157s - loss: 1.0224 - accuracy: 0.7569 - val_loss: 0.2290 - val_accuracy: 0.9590 - 157s/epoch - 300ms/step\n",
      "Epoch 20/50\n",
      "525/525 - 157s - loss: 0.9856 - accuracy: 0.7638 - val_loss: 0.1899 - val_accuracy: 0.9543 - 157s/epoch - 298ms/step\n",
      "Epoch 21/50\n",
      "525/525 - 158s - loss: 0.9271 - accuracy: 0.7779 - val_loss: 0.2533 - val_accuracy: 0.9533 - 158s/epoch - 301ms/step\n",
      "Epoch 22/50\n",
      "525/525 - 156s - loss: 0.9496 - accuracy: 0.7695 - val_loss: 0.2476 - val_accuracy: 0.9543 - 156s/epoch - 297ms/step\n",
      "Epoch 23/50\n",
      "525/525 - 156s - loss: 0.9792 - accuracy: 0.7662 - val_loss: 0.3514 - val_accuracy: 0.9476 - 156s/epoch - 297ms/step\n",
      "Epoch 24/50\n",
      "525/525 - 155s - loss: 0.9521 - accuracy: 0.7760 - val_loss: 0.2189 - val_accuracy: 0.9600 - 155s/epoch - 295ms/step\n",
      "Epoch 25/50\n",
      "525/525 - 155s - loss: 0.9209 - accuracy: 0.7769 - val_loss: 0.2062 - val_accuracy: 0.9590 - 155s/epoch - 295ms/step\n",
      "Epoch 26/50\n",
      "525/525 - 155s - loss: 0.9166 - accuracy: 0.7833 - val_loss: 0.2521 - val_accuracy: 0.9552 - 155s/epoch - 295ms/step\n",
      "Epoch 27/50\n",
      "525/525 - 154s - loss: 0.9233 - accuracy: 0.7833 - val_loss: 0.2328 - val_accuracy: 0.9543 - 154s/epoch - 293ms/step\n",
      "Epoch 28/50\n",
      "525/525 - 154s - loss: 0.8706 - accuracy: 0.7974 - val_loss: 0.2216 - val_accuracy: 0.9600 - 154s/epoch - 294ms/step\n",
      "Epoch 29/50\n",
      "525/525 - 153s - loss: 0.9220 - accuracy: 0.7836 - val_loss: 0.2380 - val_accuracy: 0.9610 - 153s/epoch - 292ms/step\n",
      "Epoch 30/50\n",
      "525/525 - 153s - loss: 0.9161 - accuracy: 0.7838 - val_loss: 0.2737 - val_accuracy: 0.9533 - 153s/epoch - 292ms/step\n",
      "Epoch 31/50\n",
      "525/525 - 154s - loss: 0.9075 - accuracy: 0.7883 - val_loss: 0.2394 - val_accuracy: 0.9552 - 154s/epoch - 294ms/step\n",
      "Epoch 32/50\n",
      "525/525 - 155s - loss: 0.8600 - accuracy: 0.7983 - val_loss: 0.2801 - val_accuracy: 0.9552 - 155s/epoch - 296ms/step\n",
      "Epoch 33/50\n",
      "525/525 - 154s - loss: 0.8560 - accuracy: 0.7981 - val_loss: 0.2863 - val_accuracy: 0.9600 - 154s/epoch - 293ms/step\n",
      "Epoch 34/50\n",
      "525/525 - 154s - loss: 0.8366 - accuracy: 0.8021 - val_loss: 0.2448 - val_accuracy: 0.9543 - 154s/epoch - 292ms/step\n",
      "Epoch 35/50\n",
      "525/525 - 156s - loss: 0.8623 - accuracy: 0.7983 - val_loss: 0.2713 - val_accuracy: 0.9610 - 156s/epoch - 296ms/step\n",
      "Epoch 36/50\n",
      "525/525 - 155s - loss: 0.8403 - accuracy: 0.8021 - val_loss: 0.2310 - val_accuracy: 0.9629 - 155s/epoch - 295ms/step\n",
      "Epoch 37/50\n",
      "525/525 - 154s - loss: 0.8477 - accuracy: 0.8045 - val_loss: 0.2922 - val_accuracy: 0.9571 - 154s/epoch - 294ms/step\n",
      "Epoch 38/50\n",
      "525/525 - 157s - loss: 0.8305 - accuracy: 0.8052 - val_loss: 0.3042 - val_accuracy: 0.9533 - 157s/epoch - 300ms/step\n",
      "Epoch 39/50\n",
      "525/525 - 157s - loss: 0.8525 - accuracy: 0.7962 - val_loss: 0.3034 - val_accuracy: 0.9543 - 157s/epoch - 298ms/step\n",
      "Epoch 40/50\n",
      "525/525 - 158s - loss: 0.7856 - accuracy: 0.8174 - val_loss: 0.2682 - val_accuracy: 0.9724 - 158s/epoch - 300ms/step\n",
      "Epoch 41/50\n",
      "525/525 - 156s - loss: 0.8558 - accuracy: 0.7945 - val_loss: 0.3141 - val_accuracy: 0.9571 - 156s/epoch - 297ms/step\n",
      "Epoch 42/50\n",
      "525/525 - 157s - loss: 0.8281 - accuracy: 0.8076 - val_loss: 0.3215 - val_accuracy: 0.9552 - 157s/epoch - 298ms/step\n",
      "Epoch 43/50\n",
      "525/525 - 156s - loss: 0.8621 - accuracy: 0.8024 - val_loss: 0.2628 - val_accuracy: 0.9600 - 156s/epoch - 297ms/step\n",
      "Epoch 44/50\n",
      "525/525 - 157s - loss: 0.8026 - accuracy: 0.8100 - val_loss: 0.3386 - val_accuracy: 0.9648 - 157s/epoch - 299ms/step\n",
      "Epoch 45/50\n",
      "525/525 - 158s - loss: 0.8157 - accuracy: 0.8098 - val_loss: 0.2814 - val_accuracy: 0.9648 - 158s/epoch - 302ms/step\n",
      "Epoch 46/50\n",
      "525/525 - 156s - loss: 0.8435 - accuracy: 0.8005 - val_loss: 0.2666 - val_accuracy: 0.9638 - 156s/epoch - 298ms/step\n",
      "Epoch 47/50\n",
      "525/525 - 164s - loss: 0.8206 - accuracy: 0.8126 - val_loss: 0.3845 - val_accuracy: 0.9581 - 164s/epoch - 313ms/step\n",
      "Epoch 48/50\n",
      "525/525 - 165s - loss: 0.7908 - accuracy: 0.8126 - val_loss: 0.2630 - val_accuracy: 0.9581 - 165s/epoch - 314ms/step\n",
      "Epoch 49/50\n",
      "525/525 - 161s - loss: 0.7858 - accuracy: 0.8133 - val_loss: 0.4270 - val_accuracy: 0.9533 - 161s/epoch - 307ms/step\n",
      "Epoch 50/50\n",
      "525/525 - 165s - loss: 0.7956 - accuracy: 0.8105 - val_loss: 0.3466 - val_accuracy: 0.9533 - 165s/epoch - 315ms/step\n"
     ]
    }
   ],
   "source": [
    "history = custom_model.fit(train_dataset, \n",
    "                           validation_data=test_dataset, \n",
    "                           steps_per_epoch = len(train_dataset),\n",
    "                           epochs = 50,\n",
    "                           validation_steps = len(test_dataset),\n",
    "                           verbose = 2, \n",
    "                           callbacks=[callbacks])"
   ]
  },
  {
   "cell_type": "code",
   "execution_count": 15,
   "id": "5f730245-9896-446c-8546-73f503b593aa",
   "metadata": {
    "tags": []
   },
   "outputs": [
    {
     "data": {
      "image/png": "[encoded data removed]",
      "text/plain": [
       "<Figure size 640x480 with 1 Axes>"
      ]
     },
     "metadata": {},
     "output_type": "display_data"
    },
    {
     "data": {
      "text/plain": [
       "<Figure size 640x480 with 0 Axes>"
      ]
     },
     "metadata": {},
     "output_type": "display_data"
    }
   ],
   "source": [
    "acc = history.history['accuracy']\n",
    "val_acc = history.history['val_accuracy']\n",
    "loss = history.history['loss']\n",
    "val_loss = history.history['val_loss']\n",
    "\n",
    "epochs = range(len(acc))\n",
    "\n",
    "plt.plot(epochs, acc, 'r', label='Training accuracy')\n",
    "plt.plot(epochs, val_acc, 'b', label='Validation accuracy')\n",
    "plt.title('Training and validation accuracy')\n",
    "plt.legend(loc=0)\n",
    "plt.figure()\n",
    "\n",
    "\n",
    "plt.show()"
   ]
  },
  {
   "cell_type": "markdown",
   "id": "00daf15e-c620-4f95-9e33-7cdec7566827",
   "metadata": {
    "id": "DkhGMu_bI4M9",
    "tags": []
   },
   "source": [
    "## Extractor"
   ]
  },
  {
   "cell_type": "code",
   "execution_count": 16,
   "id": "f1f50735-dcdd-4f8f-b894-3cce98c2c7fa",
   "metadata": {
    "tags": []
   },
   "outputs": [],
   "source": [
    "def extract_face(filename, required_size=(224, 224)):\n",
    "    # load image from file\n",
    "    pixels = plt.imread(filename)\n",
    "    \n",
    "    # create the detector, using default weights\n",
    "    detector = MTCNN()\n",
    "    \n",
    "    # detect faces in the image\n",
    "    results = detector.detect_faces(pixels)\n",
    "    \n",
    "    # extract the bounding box from the first face\n",
    "    x1, y1, width, height = results[0]['box']\n",
    "    x2, y2 = x1 + width, y1 + height\n",
    "    # extract the face\n",
    "    face = pixels[y1:y2, x1:x2]\n",
    "    \n",
    "    # resize pixels to the model size\n",
    "    image = Image.fromarray(face)\n",
    "    image = image.resize(required_size)\n",
    "    face_array = np.asarray(image)\n",
    "    return face_array"
   ]
  },
  {
   "cell_type": "markdown",
   "id": "cb645b05-d3bf-46b1-92dc-56a1433057ea",
   "metadata": {
    "tags": []
   },
   "source": [
    "## Verification Check"
   ]
  },
  {
   "cell_type": "markdown",
   "id": "a611c93b-4448-41f3-afac-49dd8ed08f73",
   "metadata": {
    "tags": []
   },
   "source": [
    "### With Fine-Tuning"
   ]
  },
  {
   "cell_type": "code",
   "execution_count": 17,
   "id": "531bf833-09e4-48e2-bf12-2cb9bcb4fa24",
   "metadata": {},
   "outputs": [
    {
     "name": "stdout",
     "output_type": "stream",
     "text": [
      "1/1 [==============================] - 0s 343ms/step\n",
      "1/1 [==============================] - 0s 145ms/step\n",
      "1/1 [==============================] - 0s 56ms/step\n",
      "1/1 [==============================] - 0s 38ms/step\n",
      "1/1 [==============================] - 0s 34ms/step\n",
      "1/1 [==============================] - 0s 31ms/step\n",
      "1/1 [==============================] - 0s 26ms/step\n",
      "1/1 [==============================] - 0s 24ms/step\n",
      "1/1 [==============================] - 0s 24ms/step\n",
      "1/1 [==============================] - 0s 16ms/step\n",
      "1/1 [==============================] - 0s 23ms/step\n",
      "1/1 [==============================] - 0s 18ms/step\n",
      "1/1 [==============================] - 0s 21ms/step\n",
      "1/1 [==============================] - 0s 20ms/step\n",
      "8/8 [==============================] - 0s 5ms/step\n",
      "1/1 [==============================] - 0s 85ms/step\n",
      "1/1 [==============================] - 0s 443ms/step\n",
      "1/1 [==============================] - 0s 259ms/step\n",
      "1/1 [==============================] - 0s 94ms/step\n",
      "1/1 [==============================] - 0s 61ms/step\n",
      "1/1 [==============================] - 0s 44ms/step\n",
      "1/1 [==============================] - 0s 34ms/step\n",
      "1/1 [==============================] - 0s 25ms/step\n",
      "1/1 [==============================] - 0s 26ms/step\n",
      "1/1 [==============================] - 0s 26ms/step\n",
      "1/1 [==============================] - 0s 24ms/step\n",
      "1/1 [==============================] - 0s 15ms/step\n",
      "1/1 [==============================] - 0s 19ms/step\n",
      "1/1 [==============================] - 0s 18ms/step\n",
      "1/1 [==============================] - 0s 22ms/step\n",
      "1/1 [==============================] - 0s 15ms/step\n",
      "12/12 [==============================] - 0s 5ms/step\n",
      "1/1 [==============================] - 0s 114ms/step\n",
      "1/1 [==============================] - 1s 638ms/step\n",
      " >face is NOT a match (0.0049 > 0.0015)\n"
     ]
    }
   ],
   "source": [
    "filenames = [\"C:\\\\Users\\\\ACER\\\\Capstone\\\\verification\\\\olla1.jpg\" , \n",
    "             \"C:\\\\Users\\\\ACER\\\\Capstone\\\\verification\\\\gita2.jpg\"]\n",
    "\n",
    "faces = [extract_face(f) for f in filenames]\n",
    "samples = np.asarray(faces, \"float32\")\n",
    "samples = preprocess_input(samples, version=2)\n",
    "\n",
    "# perform prediction\n",
    "embeddings = custom_model.predict(samples)\n",
    "thresh = 0.0015\n",
    "score = cosine(embeddings[0], embeddings[1])\n",
    "if score <= thresh:\n",
    "    print( \" >face is a match (%.4f <= %.4f) \" % (score, thresh))\n",
    "else:\n",
    "    print(\" >face is NOT a match (%.4f > %.4f)\" % (score, thresh))"
   ]
  },
  {
   "cell_type": "markdown",
   "id": "8bf5fca6-ef88-4595-a3ad-d872ac357519",
   "metadata": {
    "jp-MarkdownHeadingCollapsed": true,
    "tags": []
   },
   "source": [
    "### Without Fine-Tuning"
   ]
  },
  {
   "cell_type": "code",
   "execution_count": null,
   "id": "5ed897cc-85f1-4b23-bcaf-a71be2faf030",
   "metadata": {
    "tags": []
   },
   "outputs": [],
   "source": [
    "filenames = [\"C:\\\\Users\\\\ACER\\\\Capstone\\\\verification3\\\\irene1.jpg\" , \n",
    "             \"C:\\\\Users\\\\ACER\\\\Capstone\\\\verification3\\\\irene2.jpg\"]\n",
    "\n",
    "faces = [extract_face(f) for f in filenames]\n",
    "samples = np.asarray(faces, \"float32\")\n",
    "samples = preprocess_input(samples, version=2)\n",
    "model = VGGFace(model= \"resnet50\" , include_top=False, input_shape=(224, 224, 3), pooling= \"avg\" )\n",
    "\n",
    "# perform prediction\n",
    "embeddings = model.predict(samples)\n",
    "thresh = 0.5\n",
    "score = cosine(embeddings[0], embeddings[1])\n",
    "if score <= thresh:\n",
    "    print( \" >face is a match (%.3f <= %.3f) \" % (score, thresh))\n",
    "else:\n",
    "    print(\" >face is NOT a match (%.3f > %.3f)\" % (score, thresh))"
   ]
  },
  {
   "cell_type": "markdown",
   "id": "340dd167-0948-4946-9e5f-5769dc045f59",
   "metadata": {
    "tags": []
   },
   "source": [
    "## Save the Model"
   ]
  },
  {
   "cell_type": "code",
   "execution_count": 18,
   "id": "ae67a384-afbd-478e-b44c-f153d63818f5",
   "metadata": {
    "tags": []
   },
   "outputs": [],
   "source": [
    "custom_model.save('model/model-7-8105.h5')"
   ]
  },
  {
   "cell_type": "markdown",
   "id": "5736b002-c7e0-47aa-95ea-4ae17f9ce8e0",
   "metadata": {
    "tags": []
   },
   "source": [
    "## Convert Model to Tflite"
   ]
  },
  {
   "cell_type": "code",
   "execution_count": 19,
   "id": "88b18e52-37d1-4b3a-ad2d-66b6c66732a9",
   "metadata": {
    "tags": []
   },
   "outputs": [
    {
     "name": "stderr",
     "output_type": "stream",
     "text": [
      "WARNING:absl:Found untraced functions such as _jit_compiled_convolution_op, _jit_compiled_convolution_op, _jit_compiled_convolution_op, _jit_compiled_convolution_op, _jit_compiled_convolution_op while saving (showing 5 of 53). These functions will not be directly callable after loading.\n"
     ]
    },
    {
     "name": "stdout",
     "output_type": "stream",
     "text": [
      "INFO:tensorflow:Assets written to: C:\\Users\\ACER\\AppData\\Local\\Temp\\tmpqa5dotvf\\assets\n"
     ]
    },
    {
     "name": "stderr",
     "output_type": "stream",
     "text": [
      "INFO:tensorflow:Assets written to: C:\\Users\\ACER\\AppData\\Local\\Temp\\tmpqa5dotvf\\assets\n"
     ]
    }
   ],
   "source": [
    "vggface_resnet_converter = tf.lite.TFLiteConverter.from_keras_model(custom_model)\n",
    "vggface_resnet_converter.optimizations = [tf.lite.Optimize.DEFAULT]\n",
    "vggface_resnet_tflite = vggface_resnet_converter.convert()"
   ]
  },
  {
   "cell_type": "markdown",
   "id": "fc1011b4-7f5a-4be1-b6aa-89ffd2b87b62",
   "metadata": {
    "tags": []
   },
   "source": [
    "### Save the Tflite File"
   ]
  },
  {
   "cell_type": "code",
   "execution_count": null,
   "id": "516569ce-5fa2-47f8-bc5a-e49bbfe96c7e",
   "metadata": {
    "tags": []
   },
   "outputs": [],
   "source": [
    "with open('model/model-6.tflite', 'wb') as f:\n",
    "    f.write(vggface_resnet_tflite)"
   ]
  }
 ],
 "metadata": {
  "kernelspec": {
   "display_name": "Python 3 (ipykernel)",
   "language": "python",
   "name": "python3"
  },
  "language_info": {
   "codemirror_mode": {
    "name": "ipython",
    "version": 3
   },
   "file_extension": ".py",
   "mimetype": "text/x-python",
   "name": "python",
   "nbconvert_exporter": "python",
   "pygments_lexer": "ipython3",
   "version": "3.11.1"
  }
 },
 "nbformat": 4,
 "nbformat_minor": 5
}
