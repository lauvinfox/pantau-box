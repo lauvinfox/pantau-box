{
  "nbformat": 4,
  "nbformat_minor": 0,
  "metadata": {
    "colab": {
      "provenance": [],
      "collapsed_sections": [
        "ncyT6D9gASl9",
        "5rZVl8NeAZkz"
      ]
    },
    "kernelspec": {
      "name": "python3",
      "display_name": "Python 3"
    },
    "language_info": {
      "name": "python"
    }
  },
  "cells": [
    {
      "cell_type": "markdown",
      "source": [
        "##Install library"
      ],
      "metadata": {
        "id": "jAIodnX7USl8"
      }
    },
    {
      "cell_type": "code",
      "source": [
        "!pip install git+https://github.com/rcmalli/keras-vggface.git\n",
        "!pip install keras_applications\n",
        "!pip install mtcnn"
      ],
      "metadata": {
        "colab": {
          "base_uri": "https://localhost:8080/"
        },
        "id": "tNvlG-yfUb3o",
        "outputId": "51d17bac-4366-41f5-e59c-db7112f88fcd"
      },
      "execution_count": 32,
      "outputs": [
        {
          "output_type": "stream",
          "name": "stdout",
          "text": [
            "Looking in indexes: https://pypi.org/simple, https://us-python.pkg.dev/colab-wheels/public/simple/\n",
            "Collecting git+https://github.com/rcmalli/keras-vggface.git\n",
            "  Cloning https://github.com/rcmalli/keras-vggface.git to /tmp/pip-req-build-rcsdzt5s\n",
            "  Running command git clone --filter=blob:none --quiet https://github.com/rcmalli/keras-vggface.git /tmp/pip-req-build-rcsdzt5s\n",
            "  Resolved https://github.com/rcmalli/keras-vggface.git to commit bee35376e76e35d00aeec503f2f242611a97b38a\n",
            "  Preparing metadata (setup.py) ... \u001b[?25l\u001b[?25hdone\n",
            "Requirement already satisfied: numpy>=1.9.1 in /usr/local/lib/python3.10/dist-packages (from keras-vggface==0.6) (1.22.4)\n",
            "Requirement already satisfied: scipy>=0.14 in /usr/local/lib/python3.10/dist-packages (from keras-vggface==0.6) (1.10.1)\n",
            "Requirement already satisfied: h5py in /usr/local/lib/python3.10/dist-packages (from keras-vggface==0.6) (3.8.0)\n",
            "Requirement already satisfied: pillow in /usr/local/lib/python3.10/dist-packages (from keras-vggface==0.6) (8.4.0)\n",
            "Requirement already satisfied: keras in /usr/local/lib/python3.10/dist-packages (from keras-vggface==0.6) (2.12.0)\n",
            "Requirement already satisfied: six>=1.9.0 in /usr/local/lib/python3.10/dist-packages (from keras-vggface==0.6) (1.16.0)\n",
            "Requirement already satisfied: pyyaml in /usr/local/lib/python3.10/dist-packages (from keras-vggface==0.6) (6.0)\n",
            "Looking in indexes: https://pypi.org/simple, https://us-python.pkg.dev/colab-wheels/public/simple/\n",
            "Requirement already satisfied: keras_applications in /usr/local/lib/python3.10/dist-packages (1.0.8)\n",
            "Requirement already satisfied: numpy>=1.9.1 in /usr/local/lib/python3.10/dist-packages (from keras_applications) (1.22.4)\n",
            "Requirement already satisfied: h5py in /usr/local/lib/python3.10/dist-packages (from keras_applications) (3.8.0)\n",
            "Looking in indexes: https://pypi.org/simple, https://us-python.pkg.dev/colab-wheels/public/simple/\n",
            "Requirement already satisfied: mtcnn in /usr/local/lib/python3.10/dist-packages (0.1.1)\n",
            "Requirement already satisfied: keras>=2.0.0 in /usr/local/lib/python3.10/dist-packages (from mtcnn) (2.12.0)\n",
            "Requirement already satisfied: opencv-python>=4.1.0 in /usr/local/lib/python3.10/dist-packages (from mtcnn) (4.7.0.72)\n",
            "Requirement already satisfied: numpy>=1.21.2 in /usr/local/lib/python3.10/dist-packages (from opencv-python>=4.1.0->mtcnn) (1.22.4)\n"
          ]
        }
      ]
    },
    {
      "cell_type": "markdown",
      "source": [
        "##Import library"
      ],
      "metadata": {
        "id": "quqCRD0RT3r3"
      }
    },
    {
      "cell_type": "code",
      "source": [
        "import tensorflow as tf\n",
        "import keras\n",
        "import keras_vggface\n",
        "from keras_vggface.vggface import VGGFace\n",
        "import mtcnn\n",
        "from mtcnn.mtcnn import MTCNN\n",
        "import numpy as np\n",
        "import matplotlib as mpl\n",
        "import matplotlib.pyplot as plt\n",
        "from keras.utils.data_utils import get_file\n",
        "import keras_vggface.utils\n",
        "import PIL\n",
        "from PIL import Image\n",
        "import os\n",
        "import cv2\n",
        "from google.colab.patches import cv2_imshow"
      ],
      "metadata": {
        "id": "gsBbWb_iT8mV"
      },
      "execution_count": 33,
      "outputs": []
    },
    {
      "cell_type": "markdown",
      "source": [
        "##Function to convert video to jpg per frame"
      ],
      "metadata": {
        "id": "M9fYgdo0Ch48"
      }
    },
    {
      "cell_type": "code",
      "source": [
        "# Function to extract frames\n",
        "def frameCapture(path):\n",
        "  \n",
        "    # Path to video file\n",
        "    vidObj = cv2.VideoCapture(path)\n",
        "  \n",
        "    # Used as counter variable\n",
        "    count = 0\n",
        "  \n",
        "    # checks whether frames were extracted\n",
        "    success = True\n",
        "  \n",
        "    while success:\n",
        "  \n",
        "        # vidObj object calls read\n",
        "        # function extract frames\n",
        "        success, image = vidObj.read()\n",
        "        \n",
        "        if success == False:\n",
        "          break\n",
        "\n",
        "        # Saves the frames with frame-count\n",
        "        cv2.imwrite(\"/content/obama4/frame%d.jpg\" % count, image)\n",
        "  \n",
        "        count += 1"
      ],
      "metadata": {
        "id": "Go5L6wLFfuPN"
      },
      "execution_count": 34,
      "outputs": []
    },
    {
      "cell_type": "markdown",
      "source": [
        "##Crop using Haar Cascade Classifier"
      ],
      "metadata": {
        "id": "ncyT6D9gASl9"
      }
    },
    {
      "cell_type": "code",
      "source": [
        "haar_classifier = cv2.CascadeClassifier(cv2.data.haarcascades + 'haarcascade_frontalface_default.xml')"
      ],
      "metadata": {
        "id": "ed7jWh33jQ42"
      },
      "execution_count": 35,
      "outputs": []
    },
    {
      "cell_type": "code",
      "source": [
        "def crop_haar(img):\n",
        "  img = cv2.imread(img)\n",
        "  gimg = cv2.cvtColor(img, cv2.COLOR_BGR2GRAY)\n",
        "  detected = haar_classifier.detectMultiScale(gimg)\n",
        "\n",
        "  if detected == ():\n",
        "    return None\n",
        "  else:\n",
        "    (x, y, w, h) = detected[0]\n",
        "    cimg = img[y:y+h , x:x+w]\n",
        "    cv2.resize(cimg, (224, 224))\n",
        "    cv2_imshow(cimg)\n",
        "    # return cimg"
      ],
      "metadata": {
        "id": "mTmCvTaPmD7-"
      },
      "execution_count": 36,
      "outputs": []
    },
    {
      "cell_type": "code",
      "source": [
        "# crop_haar(\"/content/momo_3.jpg\")"
      ],
      "metadata": {
        "id": "tmqIhTNe-FS2"
      },
      "execution_count": 37,
      "outputs": []
    },
    {
      "cell_type": "markdown",
      "source": [
        "##Crop using MTCNN"
      ],
      "metadata": {
        "id": "5rZVl8NeAZkz"
      }
    },
    {
      "cell_type": "code",
      "source": [
        "def read_image(file):\n",
        "  img = cv2.imread(file)\n",
        "  img = cv2.cvtColor(img, cv2.COLOR_BGR2RGB)\n",
        "  return img\n",
        "\n",
        "def crop_bb(image, detection, margin):\n",
        "    x1, y1, w, h = detection['box']\n",
        "    x1 -= margin\n",
        "    y1 -= margin\n",
        "    w += 2*margin\n",
        "    h += 2*margin\n",
        "    \n",
        "    if x1 < 0:\n",
        "        w += x1\n",
        "        x1 = 0\n",
        "\n",
        "    if y1 < 0:\n",
        "        h += y1\n",
        "        y1 = 0\n",
        "\n",
        "    return image[y1:y1+h, x1:x1+w]\n",
        "\n",
        "def crop_mtcnn(mtcnn, img):\n",
        "  det = mtcnn.detect_faces(img)[0]\n",
        "  margin = int(0.1 * img.shape[0])\n",
        "  ret = crop_bb(img, det, margin)\n",
        "  return ret"
      ],
      "metadata": {
        "id": "b5gwEZEUAhdz"
      },
      "execution_count": 38,
      "outputs": []
    },
    {
      "cell_type": "code",
      "source": [
        "# import matplotlib.pyplot as plt\n",
        "\n",
        "# momo1 = read_image(\"/content/drive/MyDrive/dataset/momo/1.jpg\")\n",
        "# momo2 = read_image(\"/content/drive/MyDrive/dataset/momo/2.jpg\")\n",
        "# momo3 = read_image(\"/content/drive/MyDrive/dataset/momo/3.jpg\")\n",
        "\n",
        "# #crops the faces\n",
        "# mtcnn = MTCNN()\n",
        "# momo1 = crop_mtcnn(mtcnn, momo1)\n",
        "# momo2 = crop_mtcnn(mtcnn, momo2)\n",
        "# momo3 = crop_mtcnn(mtcnn, momo3)\n",
        "\n",
        "# fig, (ax1, ax2, ax3) = plt.subplots(1, 3)\n",
        "# fig.set_size_inches(16, 8)\n",
        "# ax1.imshow(momo1)\n",
        "# ax1.text(0.5,-0.1,\"Momo 1\", transform=ax1.transAxes)\n",
        "# ax2.imshow(momo2)\n",
        "# ax1.text(0.5,-0.1,\"Momo 2\", transform=ax2.transAxes)\n",
        "# ax3.imshow(momo3)\n",
        "# ax1.text(0.5,-0.1,\"Momo 3\", transform=ax3.transAxes)\n",
        "\n",
        "# plt.show()"
      ],
      "metadata": {
        "id": "WW7zLH3WA_Wj"
      },
      "execution_count": 39,
      "outputs": []
    },
    {
      "cell_type": "markdown",
      "source": [
        "##Extractor"
      ],
      "metadata": {
        "id": "DkhGMu_bI4M9"
      }
    },
    {
      "cell_type": "code",
      "source": [
        "def extract_face(filename, required_size=(224, 224)):\n",
        "  # load image from file\n",
        "  pixels = plt.imread(filename)\n",
        "  \n",
        "  # create the detector, using default weights\n",
        "  detector = MTCNN()\n",
        "  \n",
        "  # detect faces in the image\n",
        "  results = detector.detect_faces(pixels)\n",
        "  \n",
        "  # extract the bounding box from the first face\n",
        "  x1, y1, width, height = results[0]['box']\n",
        "  x2, y2 = x1 + width, y1 + height\n",
        "  \n",
        "  # extract the face\n",
        "  face = pixels[y1:y2, x1:x2]\n",
        "  \n",
        "  # resize pixels to the model size\n",
        "  image = Image.fromarray(face)\n",
        "  image = image.resize(required_size)\n",
        "  face_array = np.asarray(image)\n",
        "  return face_array"
      ],
      "metadata": {
        "id": "yeYDmjInJ03P"
      },
      "execution_count": 40,
      "outputs": []
    },
    {
      "cell_type": "code",
      "source": [
        "# #test function\n",
        "# pixels = extract_face('/content/momo_3.jpg')\n",
        "# # plot the extracted face\n",
        "# plt.imshow(pixels)\n",
        "# # show the plot\n",
        "# plt.show()"
      ],
      "metadata": {
        "id": "GZNd83wWKwdu"
      },
      "execution_count": 41,
      "outputs": []
    },
    {
      "cell_type": "markdown",
      "source": [
        "##Load model VGGFace"
      ],
      "metadata": {
        "id": "khrBAGYnMvQU"
      }
    },
    {
      "cell_type": "code",
      "source": [
        "pre_trained_model = VGGFace(model='resnet50', include_top=False, input_shape=(224, 224, 3), weights='vggface')"
      ],
      "metadata": {
        "id": "D0VWSF-iU15n"
      },
      "execution_count": 42,
      "outputs": []
    },
    {
      "cell_type": "code",
      "source": [
        "for layer in pre_trained_model.layers:\n",
        "  layer.trainable = False"
      ],
      "metadata": {
        "id": "aLh4GZ4H3aNf"
      },
      "execution_count": 43,
      "outputs": []
    },
    {
      "cell_type": "code",
      "source": [
        "pre_trained_model.summary()"
      ],
      "metadata": {
        "id": "PLkkvBtp_NJE",
        "colab": {
          "base_uri": "https://localhost:8080/"
        },
        "outputId": "c57acffd-8e2a-4014-d981-276831903233"
      },
      "execution_count": 44,
      "outputs": [
        {
          "output_type": "stream",
          "name": "stdout",
          "text": [
            "Model: \"vggface_resnet50\"\n",
            "__________________________________________________________________________________________________\n",
            " Layer (type)                   Output Shape         Param #     Connected to                     \n",
            "==================================================================================================\n",
            " input_3 (InputLayer)           [(None, 224, 224, 3  0           []                               \n",
            "                                )]                                                                \n",
            "                                                                                                  \n",
            " conv1/7x7_s2 (Conv2D)          (None, 112, 112, 64  9408        ['input_3[0][0]']                \n",
            "                                )                                                                 \n",
            "                                                                                                  \n",
            " conv1/7x7_s2/bn (BatchNormaliz  (None, 112, 112, 64  256        ['conv1/7x7_s2[0][0]']           \n",
            " ation)                         )                                                                 \n",
            "                                                                                                  \n",
            " activation_99 (Activation)     (None, 112, 112, 64  0           ['conv1/7x7_s2/bn[0][0]']        \n",
            "                                )                                                                 \n",
            "                                                                                                  \n",
            " max_pooling2d_7 (MaxPooling2D)  (None, 55, 55, 64)  0           ['activation_99[0][0]']          \n",
            "                                                                                                  \n",
            " conv2_1_1x1_reduce (Conv2D)    (None, 55, 55, 64)   4096        ['max_pooling2d_7[0][0]']        \n",
            "                                                                                                  \n",
            " conv2_1_1x1_reduce/bn (BatchNo  (None, 55, 55, 64)  256         ['conv2_1_1x1_reduce[0][0]']     \n",
            " rmalization)                                                                                     \n",
            "                                                                                                  \n",
            " activation_100 (Activation)    (None, 55, 55, 64)   0           ['conv2_1_1x1_reduce/bn[0][0]']  \n",
            "                                                                                                  \n",
            " conv2_1_3x3 (Conv2D)           (None, 55, 55, 64)   36864       ['activation_100[0][0]']         \n",
            "                                                                                                  \n",
            " conv2_1_3x3/bn (BatchNormaliza  (None, 55, 55, 64)  256         ['conv2_1_3x3[0][0]']            \n",
            " tion)                                                                                            \n",
            "                                                                                                  \n",
            " activation_101 (Activation)    (None, 55, 55, 64)   0           ['conv2_1_3x3/bn[0][0]']         \n",
            "                                                                                                  \n",
            " conv2_1_1x1_increase (Conv2D)  (None, 55, 55, 256)  16384       ['activation_101[0][0]']         \n",
            "                                                                                                  \n",
            " conv2_1_1x1_proj (Conv2D)      (None, 55, 55, 256)  16384       ['max_pooling2d_7[0][0]']        \n",
            "                                                                                                  \n",
            " conv2_1_1x1_increase/bn (Batch  (None, 55, 55, 256)  1024       ['conv2_1_1x1_increase[0][0]']   \n",
            " Normalization)                                                                                   \n",
            "                                                                                                  \n",
            " conv2_1_1x1_proj/bn (BatchNorm  (None, 55, 55, 256)  1024       ['conv2_1_1x1_proj[0][0]']       \n",
            " alization)                                                                                       \n",
            "                                                                                                  \n",
            " add_32 (Add)                   (None, 55, 55, 256)  0           ['conv2_1_1x1_increase/bn[0][0]',\n",
            "                                                                  'conv2_1_1x1_proj/bn[0][0]']    \n",
            "                                                                                                  \n",
            " activation_102 (Activation)    (None, 55, 55, 256)  0           ['add_32[0][0]']                 \n",
            "                                                                                                  \n",
            " conv2_2_1x1_reduce (Conv2D)    (None, 55, 55, 64)   16384       ['activation_102[0][0]']         \n",
            "                                                                                                  \n",
            " conv2_2_1x1_reduce/bn (BatchNo  (None, 55, 55, 64)  256         ['conv2_2_1x1_reduce[0][0]']     \n",
            " rmalization)                                                                                     \n",
            "                                                                                                  \n",
            " activation_103 (Activation)    (None, 55, 55, 64)   0           ['conv2_2_1x1_reduce/bn[0][0]']  \n",
            "                                                                                                  \n",
            " conv2_2_3x3 (Conv2D)           (None, 55, 55, 64)   36864       ['activation_103[0][0]']         \n",
            "                                                                                                  \n",
            " conv2_2_3x3/bn (BatchNormaliza  (None, 55, 55, 64)  256         ['conv2_2_3x3[0][0]']            \n",
            " tion)                                                                                            \n",
            "                                                                                                  \n",
            " activation_104 (Activation)    (None, 55, 55, 64)   0           ['conv2_2_3x3/bn[0][0]']         \n",
            "                                                                                                  \n",
            " conv2_2_1x1_increase (Conv2D)  (None, 55, 55, 256)  16384       ['activation_104[0][0]']         \n",
            "                                                                                                  \n",
            " conv2_2_1x1_increase/bn (Batch  (None, 55, 55, 256)  1024       ['conv2_2_1x1_increase[0][0]']   \n",
            " Normalization)                                                                                   \n",
            "                                                                                                  \n",
            " add_33 (Add)                   (None, 55, 55, 256)  0           ['conv2_2_1x1_increase/bn[0][0]',\n",
            "                                                                  'activation_102[0][0]']         \n",
            "                                                                                                  \n",
            " activation_105 (Activation)    (None, 55, 55, 256)  0           ['add_33[0][0]']                 \n",
            "                                                                                                  \n",
            " conv2_3_1x1_reduce (Conv2D)    (None, 55, 55, 64)   16384       ['activation_105[0][0]']         \n",
            "                                                                                                  \n",
            " conv2_3_1x1_reduce/bn (BatchNo  (None, 55, 55, 64)  256         ['conv2_3_1x1_reduce[0][0]']     \n",
            " rmalization)                                                                                     \n",
            "                                                                                                  \n",
            " activation_106 (Activation)    (None, 55, 55, 64)   0           ['conv2_3_1x1_reduce/bn[0][0]']  \n",
            "                                                                                                  \n",
            " conv2_3_3x3 (Conv2D)           (None, 55, 55, 64)   36864       ['activation_106[0][0]']         \n",
            "                                                                                                  \n",
            " conv2_3_3x3/bn (BatchNormaliza  (None, 55, 55, 64)  256         ['conv2_3_3x3[0][0]']            \n",
            " tion)                                                                                            \n",
            "                                                                                                  \n",
            " activation_107 (Activation)    (None, 55, 55, 64)   0           ['conv2_3_3x3/bn[0][0]']         \n",
            "                                                                                                  \n",
            " conv2_3_1x1_increase (Conv2D)  (None, 55, 55, 256)  16384       ['activation_107[0][0]']         \n",
            "                                                                                                  \n",
            " conv2_3_1x1_increase/bn (Batch  (None, 55, 55, 256)  1024       ['conv2_3_1x1_increase[0][0]']   \n",
            " Normalization)                                                                                   \n",
            "                                                                                                  \n",
            " add_34 (Add)                   (None, 55, 55, 256)  0           ['conv2_3_1x1_increase/bn[0][0]',\n",
            "                                                                  'activation_105[0][0]']         \n",
            "                                                                                                  \n",
            " activation_108 (Activation)    (None, 55, 55, 256)  0           ['add_34[0][0]']                 \n",
            "                                                                                                  \n",
            " conv3_1_1x1_reduce (Conv2D)    (None, 28, 28, 128)  32768       ['activation_108[0][0]']         \n",
            "                                                                                                  \n",
            " conv3_1_1x1_reduce/bn (BatchNo  (None, 28, 28, 128)  512        ['conv3_1_1x1_reduce[0][0]']     \n",
            " rmalization)                                                                                     \n",
            "                                                                                                  \n",
            " activation_109 (Activation)    (None, 28, 28, 128)  0           ['conv3_1_1x1_reduce/bn[0][0]']  \n",
            "                                                                                                  \n",
            " conv3_1_3x3 (Conv2D)           (None, 28, 28, 128)  147456      ['activation_109[0][0]']         \n",
            "                                                                                                  \n",
            " conv3_1_3x3/bn (BatchNormaliza  (None, 28, 28, 128)  512        ['conv3_1_3x3[0][0]']            \n",
            " tion)                                                                                            \n",
            "                                                                                                  \n",
            " activation_110 (Activation)    (None, 28, 28, 128)  0           ['conv3_1_3x3/bn[0][0]']         \n",
            "                                                                                                  \n",
            " conv3_1_1x1_increase (Conv2D)  (None, 28, 28, 512)  65536       ['activation_110[0][0]']         \n",
            "                                                                                                  \n",
            " conv3_1_1x1_proj (Conv2D)      (None, 28, 28, 512)  131072      ['activation_108[0][0]']         \n",
            "                                                                                                  \n",
            " conv3_1_1x1_increase/bn (Batch  (None, 28, 28, 512)  2048       ['conv3_1_1x1_increase[0][0]']   \n",
            " Normalization)                                                                                   \n",
            "                                                                                                  \n",
            " conv3_1_1x1_proj/bn (BatchNorm  (None, 28, 28, 512)  2048       ['conv3_1_1x1_proj[0][0]']       \n",
            " alization)                                                                                       \n",
            "                                                                                                  \n",
            " add_35 (Add)                   (None, 28, 28, 512)  0           ['conv3_1_1x1_increase/bn[0][0]',\n",
            "                                                                  'conv3_1_1x1_proj/bn[0][0]']    \n",
            "                                                                                                  \n",
            " activation_111 (Activation)    (None, 28, 28, 512)  0           ['add_35[0][0]']                 \n",
            "                                                                                                  \n",
            " conv3_2_1x1_reduce (Conv2D)    (None, 28, 28, 128)  65536       ['activation_111[0][0]']         \n",
            "                                                                                                  \n",
            " conv3_2_1x1_reduce/bn (BatchNo  (None, 28, 28, 128)  512        ['conv3_2_1x1_reduce[0][0]']     \n",
            " rmalization)                                                                                     \n",
            "                                                                                                  \n",
            " activation_112 (Activation)    (None, 28, 28, 128)  0           ['conv3_2_1x1_reduce/bn[0][0]']  \n",
            "                                                                                                  \n",
            " conv3_2_3x3 (Conv2D)           (None, 28, 28, 128)  147456      ['activation_112[0][0]']         \n",
            "                                                                                                  \n",
            " conv3_2_3x3/bn (BatchNormaliza  (None, 28, 28, 128)  512        ['conv3_2_3x3[0][0]']            \n",
            " tion)                                                                                            \n",
            "                                                                                                  \n",
            " activation_113 (Activation)    (None, 28, 28, 128)  0           ['conv3_2_3x3/bn[0][0]']         \n",
            "                                                                                                  \n",
            " conv3_2_1x1_increase (Conv2D)  (None, 28, 28, 512)  65536       ['activation_113[0][0]']         \n",
            "                                                                                                  \n",
            " conv3_2_1x1_increase/bn (Batch  (None, 28, 28, 512)  2048       ['conv3_2_1x1_increase[0][0]']   \n",
            " Normalization)                                                                                   \n",
            "                                                                                                  \n",
            " add_36 (Add)                   (None, 28, 28, 512)  0           ['conv3_2_1x1_increase/bn[0][0]',\n",
            "                                                                  'activation_111[0][0]']         \n",
            "                                                                                                  \n",
            " activation_114 (Activation)    (None, 28, 28, 512)  0           ['add_36[0][0]']                 \n",
            "                                                                                                  \n",
            " conv3_3_1x1_reduce (Conv2D)    (None, 28, 28, 128)  65536       ['activation_114[0][0]']         \n",
            "                                                                                                  \n",
            " conv3_3_1x1_reduce/bn (BatchNo  (None, 28, 28, 128)  512        ['conv3_3_1x1_reduce[0][0]']     \n",
            " rmalization)                                                                                     \n",
            "                                                                                                  \n",
            " activation_115 (Activation)    (None, 28, 28, 128)  0           ['conv3_3_1x1_reduce/bn[0][0]']  \n",
            "                                                                                                  \n",
            " conv3_3_3x3 (Conv2D)           (None, 28, 28, 128)  147456      ['activation_115[0][0]']         \n",
            "                                                                                                  \n",
            " conv3_3_3x3/bn (BatchNormaliza  (None, 28, 28, 128)  512        ['conv3_3_3x3[0][0]']            \n",
            " tion)                                                                                            \n",
            "                                                                                                  \n",
            " activation_116 (Activation)    (None, 28, 28, 128)  0           ['conv3_3_3x3/bn[0][0]']         \n",
            "                                                                                                  \n",
            " conv3_3_1x1_increase (Conv2D)  (None, 28, 28, 512)  65536       ['activation_116[0][0]']         \n",
            "                                                                                                  \n",
            " conv3_3_1x1_increase/bn (Batch  (None, 28, 28, 512)  2048       ['conv3_3_1x1_increase[0][0]']   \n",
            " Normalization)                                                                                   \n",
            "                                                                                                  \n",
            " add_37 (Add)                   (None, 28, 28, 512)  0           ['conv3_3_1x1_increase/bn[0][0]',\n",
            "                                                                  'activation_114[0][0]']         \n",
            "                                                                                                  \n",
            " activation_117 (Activation)    (None, 28, 28, 512)  0           ['add_37[0][0]']                 \n",
            "                                                                                                  \n",
            " conv3_4_1x1_reduce (Conv2D)    (None, 28, 28, 128)  65536       ['activation_117[0][0]']         \n",
            "                                                                                                  \n",
            " conv3_4_1x1_reduce/bn (BatchNo  (None, 28, 28, 128)  512        ['conv3_4_1x1_reduce[0][0]']     \n",
            " rmalization)                                                                                     \n",
            "                                                                                                  \n",
            " activation_118 (Activation)    (None, 28, 28, 128)  0           ['conv3_4_1x1_reduce/bn[0][0]']  \n",
            "                                                                                                  \n",
            " conv3_4_3x3 (Conv2D)           (None, 28, 28, 128)  147456      ['activation_118[0][0]']         \n",
            "                                                                                                  \n",
            " conv3_4_3x3/bn (BatchNormaliza  (None, 28, 28, 128)  512        ['conv3_4_3x3[0][0]']            \n",
            " tion)                                                                                            \n",
            "                                                                                                  \n",
            " activation_119 (Activation)    (None, 28, 28, 128)  0           ['conv3_4_3x3/bn[0][0]']         \n",
            "                                                                                                  \n",
            " conv3_4_1x1_increase (Conv2D)  (None, 28, 28, 512)  65536       ['activation_119[0][0]']         \n",
            "                                                                                                  \n",
            " conv3_4_1x1_increase/bn (Batch  (None, 28, 28, 512)  2048       ['conv3_4_1x1_increase[0][0]']   \n",
            " Normalization)                                                                                   \n",
            "                                                                                                  \n",
            " add_38 (Add)                   (None, 28, 28, 512)  0           ['conv3_4_1x1_increase/bn[0][0]',\n",
            "                                                                  'activation_117[0][0]']         \n",
            "                                                                                                  \n",
            " activation_120 (Activation)    (None, 28, 28, 512)  0           ['add_38[0][0]']                 \n",
            "                                                                                                  \n",
            " conv4_1_1x1_reduce (Conv2D)    (None, 14, 14, 256)  131072      ['activation_120[0][0]']         \n",
            "                                                                                                  \n",
            " conv4_1_1x1_reduce/bn (BatchNo  (None, 14, 14, 256)  1024       ['conv4_1_1x1_reduce[0][0]']     \n",
            " rmalization)                                                                                     \n",
            "                                                                                                  \n",
            " activation_121 (Activation)    (None, 14, 14, 256)  0           ['conv4_1_1x1_reduce/bn[0][0]']  \n",
            "                                                                                                  \n",
            " conv4_1_3x3 (Conv2D)           (None, 14, 14, 256)  589824      ['activation_121[0][0]']         \n",
            "                                                                                                  \n",
            " conv4_1_3x3/bn (BatchNormaliza  (None, 14, 14, 256)  1024       ['conv4_1_3x3[0][0]']            \n",
            " tion)                                                                                            \n",
            "                                                                                                  \n",
            " activation_122 (Activation)    (None, 14, 14, 256)  0           ['conv4_1_3x3/bn[0][0]']         \n",
            "                                                                                                  \n",
            " conv4_1_1x1_increase (Conv2D)  (None, 14, 14, 1024  262144      ['activation_122[0][0]']         \n",
            "                                )                                                                 \n",
            "                                                                                                  \n",
            " conv4_1_1x1_proj (Conv2D)      (None, 14, 14, 1024  524288      ['activation_120[0][0]']         \n",
            "                                )                                                                 \n",
            "                                                                                                  \n",
            " conv4_1_1x1_increase/bn (Batch  (None, 14, 14, 1024  4096       ['conv4_1_1x1_increase[0][0]']   \n",
            " Normalization)                 )                                                                 \n",
            "                                                                                                  \n",
            " conv4_1_1x1_proj/bn (BatchNorm  (None, 14, 14, 1024  4096       ['conv4_1_1x1_proj[0][0]']       \n",
            " alization)                     )                                                                 \n",
            "                                                                                                  \n",
            " add_39 (Add)                   (None, 14, 14, 1024  0           ['conv4_1_1x1_increase/bn[0][0]',\n",
            "                                )                                 'conv4_1_1x1_proj/bn[0][0]']    \n",
            "                                                                                                  \n",
            " activation_123 (Activation)    (None, 14, 14, 1024  0           ['add_39[0][0]']                 \n",
            "                                )                                                                 \n",
            "                                                                                                  \n",
            " conv4_2_1x1_reduce (Conv2D)    (None, 14, 14, 256)  262144      ['activation_123[0][0]']         \n",
            "                                                                                                  \n",
            " conv4_2_1x1_reduce/bn (BatchNo  (None, 14, 14, 256)  1024       ['conv4_2_1x1_reduce[0][0]']     \n",
            " rmalization)                                                                                     \n",
            "                                                                                                  \n",
            " activation_124 (Activation)    (None, 14, 14, 256)  0           ['conv4_2_1x1_reduce/bn[0][0]']  \n",
            "                                                                                                  \n",
            " conv4_2_3x3 (Conv2D)           (None, 14, 14, 256)  589824      ['activation_124[0][0]']         \n",
            "                                                                                                  \n",
            " conv4_2_3x3/bn (BatchNormaliza  (None, 14, 14, 256)  1024       ['conv4_2_3x3[0][0]']            \n",
            " tion)                                                                                            \n",
            "                                                                                                  \n",
            " activation_125 (Activation)    (None, 14, 14, 256)  0           ['conv4_2_3x3/bn[0][0]']         \n",
            "                                                                                                  \n",
            " conv4_2_1x1_increase (Conv2D)  (None, 14, 14, 1024  262144      ['activation_125[0][0]']         \n",
            "                                )                                                                 \n",
            "                                                                                                  \n",
            " conv4_2_1x1_increase/bn (Batch  (None, 14, 14, 1024  4096       ['conv4_2_1x1_increase[0][0]']   \n",
            " Normalization)                 )                                                                 \n",
            "                                                                                                  \n",
            " add_40 (Add)                   (None, 14, 14, 1024  0           ['conv4_2_1x1_increase/bn[0][0]',\n",
            "                                )                                 'activation_123[0][0]']         \n",
            "                                                                                                  \n",
            " activation_126 (Activation)    (None, 14, 14, 1024  0           ['add_40[0][0]']                 \n",
            "                                )                                                                 \n",
            "                                                                                                  \n",
            " conv4_3_1x1_reduce (Conv2D)    (None, 14, 14, 256)  262144      ['activation_126[0][0]']         \n",
            "                                                                                                  \n",
            " conv4_3_1x1_reduce/bn (BatchNo  (None, 14, 14, 256)  1024       ['conv4_3_1x1_reduce[0][0]']     \n",
            " rmalization)                                                                                     \n",
            "                                                                                                  \n",
            " activation_127 (Activation)    (None, 14, 14, 256)  0           ['conv4_3_1x1_reduce/bn[0][0]']  \n",
            "                                                                                                  \n",
            " conv4_3_3x3 (Conv2D)           (None, 14, 14, 256)  589824      ['activation_127[0][0]']         \n",
            "                                                                                                  \n",
            " conv4_3_3x3/bn (BatchNormaliza  (None, 14, 14, 256)  1024       ['conv4_3_3x3[0][0]']            \n",
            " tion)                                                                                            \n",
            "                                                                                                  \n",
            " activation_128 (Activation)    (None, 14, 14, 256)  0           ['conv4_3_3x3/bn[0][0]']         \n",
            "                                                                                                  \n",
            " conv4_3_1x1_increase (Conv2D)  (None, 14, 14, 1024  262144      ['activation_128[0][0]']         \n",
            "                                )                                                                 \n",
            "                                                                                                  \n",
            " conv4_3_1x1_increase/bn (Batch  (None, 14, 14, 1024  4096       ['conv4_3_1x1_increase[0][0]']   \n",
            " Normalization)                 )                                                                 \n",
            "                                                                                                  \n",
            " add_41 (Add)                   (None, 14, 14, 1024  0           ['conv4_3_1x1_increase/bn[0][0]',\n",
            "                                )                                 'activation_126[0][0]']         \n",
            "                                                                                                  \n",
            " activation_129 (Activation)    (None, 14, 14, 1024  0           ['add_41[0][0]']                 \n",
            "                                )                                                                 \n",
            "                                                                                                  \n",
            " conv4_4_1x1_reduce (Conv2D)    (None, 14, 14, 256)  262144      ['activation_129[0][0]']         \n",
            "                                                                                                  \n",
            " conv4_4_1x1_reduce/bn (BatchNo  (None, 14, 14, 256)  1024       ['conv4_4_1x1_reduce[0][0]']     \n",
            " rmalization)                                                                                     \n",
            "                                                                                                  \n",
            " activation_130 (Activation)    (None, 14, 14, 256)  0           ['conv4_4_1x1_reduce/bn[0][0]']  \n",
            "                                                                                                  \n",
            " conv4_4_3x3 (Conv2D)           (None, 14, 14, 256)  589824      ['activation_130[0][0]']         \n",
            "                                                                                                  \n",
            " conv4_4_3x3/bn (BatchNormaliza  (None, 14, 14, 256)  1024       ['conv4_4_3x3[0][0]']            \n",
            " tion)                                                                                            \n",
            "                                                                                                  \n",
            " activation_131 (Activation)    (None, 14, 14, 256)  0           ['conv4_4_3x3/bn[0][0]']         \n",
            "                                                                                                  \n",
            " conv4_4_1x1_increase (Conv2D)  (None, 14, 14, 1024  262144      ['activation_131[0][0]']         \n",
            "                                )                                                                 \n",
            "                                                                                                  \n",
            " conv4_4_1x1_increase/bn (Batch  (None, 14, 14, 1024  4096       ['conv4_4_1x1_increase[0][0]']   \n",
            " Normalization)                 )                                                                 \n",
            "                                                                                                  \n",
            " add_42 (Add)                   (None, 14, 14, 1024  0           ['conv4_4_1x1_increase/bn[0][0]',\n",
            "                                )                                 'activation_129[0][0]']         \n",
            "                                                                                                  \n",
            " activation_132 (Activation)    (None, 14, 14, 1024  0           ['add_42[0][0]']                 \n",
            "                                )                                                                 \n",
            "                                                                                                  \n",
            " conv4_5_1x1_reduce (Conv2D)    (None, 14, 14, 256)  262144      ['activation_132[0][0]']         \n",
            "                                                                                                  \n",
            " conv4_5_1x1_reduce/bn (BatchNo  (None, 14, 14, 256)  1024       ['conv4_5_1x1_reduce[0][0]']     \n",
            " rmalization)                                                                                     \n",
            "                                                                                                  \n",
            " activation_133 (Activation)    (None, 14, 14, 256)  0           ['conv4_5_1x1_reduce/bn[0][0]']  \n",
            "                                                                                                  \n",
            " conv4_5_3x3 (Conv2D)           (None, 14, 14, 256)  589824      ['activation_133[0][0]']         \n",
            "                                                                                                  \n",
            " conv4_5_3x3/bn (BatchNormaliza  (None, 14, 14, 256)  1024       ['conv4_5_3x3[0][0]']            \n",
            " tion)                                                                                            \n",
            "                                                                                                  \n",
            " activation_134 (Activation)    (None, 14, 14, 256)  0           ['conv4_5_3x3/bn[0][0]']         \n",
            "                                                                                                  \n",
            " conv4_5_1x1_increase (Conv2D)  (None, 14, 14, 1024  262144      ['activation_134[0][0]']         \n",
            "                                )                                                                 \n",
            "                                                                                                  \n",
            " conv4_5_1x1_increase/bn (Batch  (None, 14, 14, 1024  4096       ['conv4_5_1x1_increase[0][0]']   \n",
            " Normalization)                 )                                                                 \n",
            "                                                                                                  \n",
            " add_43 (Add)                   (None, 14, 14, 1024  0           ['conv4_5_1x1_increase/bn[0][0]',\n",
            "                                )                                 'activation_132[0][0]']         \n",
            "                                                                                                  \n",
            " activation_135 (Activation)    (None, 14, 14, 1024  0           ['add_43[0][0]']                 \n",
            "                                )                                                                 \n",
            "                                                                                                  \n",
            " conv4_6_1x1_reduce (Conv2D)    (None, 14, 14, 256)  262144      ['activation_135[0][0]']         \n",
            "                                                                                                  \n",
            " conv4_6_1x1_reduce/bn (BatchNo  (None, 14, 14, 256)  1024       ['conv4_6_1x1_reduce[0][0]']     \n",
            " rmalization)                                                                                     \n",
            "                                                                                                  \n",
            " activation_136 (Activation)    (None, 14, 14, 256)  0           ['conv4_6_1x1_reduce/bn[0][0]']  \n",
            "                                                                                                  \n",
            " conv4_6_3x3 (Conv2D)           (None, 14, 14, 256)  589824      ['activation_136[0][0]']         \n",
            "                                                                                                  \n",
            " conv4_6_3x3/bn (BatchNormaliza  (None, 14, 14, 256)  1024       ['conv4_6_3x3[0][0]']            \n",
            " tion)                                                                                            \n",
            "                                                                                                  \n",
            " activation_137 (Activation)    (None, 14, 14, 256)  0           ['conv4_6_3x3/bn[0][0]']         \n",
            "                                                                                                  \n",
            " conv4_6_1x1_increase (Conv2D)  (None, 14, 14, 1024  262144      ['activation_137[0][0]']         \n",
            "                                )                                                                 \n",
            "                                                                                                  \n",
            " conv4_6_1x1_increase/bn (Batch  (None, 14, 14, 1024  4096       ['conv4_6_1x1_increase[0][0]']   \n",
            " Normalization)                 )                                                                 \n",
            "                                                                                                  \n",
            " add_44 (Add)                   (None, 14, 14, 1024  0           ['conv4_6_1x1_increase/bn[0][0]',\n",
            "                                )                                 'activation_135[0][0]']         \n",
            "                                                                                                  \n",
            " activation_138 (Activation)    (None, 14, 14, 1024  0           ['add_44[0][0]']                 \n",
            "                                )                                                                 \n",
            "                                                                                                  \n",
            " conv5_1_1x1_reduce (Conv2D)    (None, 7, 7, 512)    524288      ['activation_138[0][0]']         \n",
            "                                                                                                  \n",
            " conv5_1_1x1_reduce/bn (BatchNo  (None, 7, 7, 512)   2048        ['conv5_1_1x1_reduce[0][0]']     \n",
            " rmalization)                                                                                     \n",
            "                                                                                                  \n",
            " activation_139 (Activation)    (None, 7, 7, 512)    0           ['conv5_1_1x1_reduce/bn[0][0]']  \n",
            "                                                                                                  \n",
            " conv5_1_3x3 (Conv2D)           (None, 7, 7, 512)    2359296     ['activation_139[0][0]']         \n",
            "                                                                                                  \n",
            " conv5_1_3x3/bn (BatchNormaliza  (None, 7, 7, 512)   2048        ['conv5_1_3x3[0][0]']            \n",
            " tion)                                                                                            \n",
            "                                                                                                  \n",
            " activation_140 (Activation)    (None, 7, 7, 512)    0           ['conv5_1_3x3/bn[0][0]']         \n",
            "                                                                                                  \n",
            " conv5_1_1x1_increase (Conv2D)  (None, 7, 7, 2048)   1048576     ['activation_140[0][0]']         \n",
            "                                                                                                  \n",
            " conv5_1_1x1_proj (Conv2D)      (None, 7, 7, 2048)   2097152     ['activation_138[0][0]']         \n",
            "                                                                                                  \n",
            " conv5_1_1x1_increase/bn (Batch  (None, 7, 7, 2048)  8192        ['conv5_1_1x1_increase[0][0]']   \n",
            " Normalization)                                                                                   \n",
            "                                                                                                  \n",
            " conv5_1_1x1_proj/bn (BatchNorm  (None, 7, 7, 2048)  8192        ['conv5_1_1x1_proj[0][0]']       \n",
            " alization)                                                                                       \n",
            "                                                                                                  \n",
            " add_45 (Add)                   (None, 7, 7, 2048)   0           ['conv5_1_1x1_increase/bn[0][0]',\n",
            "                                                                  'conv5_1_1x1_proj/bn[0][0]']    \n",
            "                                                                                                  \n",
            " activation_141 (Activation)    (None, 7, 7, 2048)   0           ['add_45[0][0]']                 \n",
            "                                                                                                  \n",
            " conv5_2_1x1_reduce (Conv2D)    (None, 7, 7, 512)    1048576     ['activation_141[0][0]']         \n",
            "                                                                                                  \n",
            " conv5_2_1x1_reduce/bn (BatchNo  (None, 7, 7, 512)   2048        ['conv5_2_1x1_reduce[0][0]']     \n",
            " rmalization)                                                                                     \n",
            "                                                                                                  \n",
            " activation_142 (Activation)    (None, 7, 7, 512)    0           ['conv5_2_1x1_reduce/bn[0][0]']  \n",
            "                                                                                                  \n",
            " conv5_2_3x3 (Conv2D)           (None, 7, 7, 512)    2359296     ['activation_142[0][0]']         \n",
            "                                                                                                  \n",
            " conv5_2_3x3/bn (BatchNormaliza  (None, 7, 7, 512)   2048        ['conv5_2_3x3[0][0]']            \n",
            " tion)                                                                                            \n",
            "                                                                                                  \n",
            " activation_143 (Activation)    (None, 7, 7, 512)    0           ['conv5_2_3x3/bn[0][0]']         \n",
            "                                                                                                  \n",
            " conv5_2_1x1_increase (Conv2D)  (None, 7, 7, 2048)   1048576     ['activation_143[0][0]']         \n",
            "                                                                                                  \n",
            " conv5_2_1x1_increase/bn (Batch  (None, 7, 7, 2048)  8192        ['conv5_2_1x1_increase[0][0]']   \n",
            " Normalization)                                                                                   \n",
            "                                                                                                  \n",
            " add_46 (Add)                   (None, 7, 7, 2048)   0           ['conv5_2_1x1_increase/bn[0][0]',\n",
            "                                                                  'activation_141[0][0]']         \n",
            "                                                                                                  \n",
            " activation_144 (Activation)    (None, 7, 7, 2048)   0           ['add_46[0][0]']                 \n",
            "                                                                                                  \n",
            " conv5_3_1x1_reduce (Conv2D)    (None, 7, 7, 512)    1048576     ['activation_144[0][0]']         \n",
            "                                                                                                  \n",
            " conv5_3_1x1_reduce/bn (BatchNo  (None, 7, 7, 512)   2048        ['conv5_3_1x1_reduce[0][0]']     \n",
            " rmalization)                                                                                     \n",
            "                                                                                                  \n",
            " activation_145 (Activation)    (None, 7, 7, 512)    0           ['conv5_3_1x1_reduce/bn[0][0]']  \n",
            "                                                                                                  \n",
            " conv5_3_3x3 (Conv2D)           (None, 7, 7, 512)    2359296     ['activation_145[0][0]']         \n",
            "                                                                                                  \n",
            " conv5_3_3x3/bn (BatchNormaliza  (None, 7, 7, 512)   2048        ['conv5_3_3x3[0][0]']            \n",
            " tion)                                                                                            \n",
            "                                                                                                  \n",
            " activation_146 (Activation)    (None, 7, 7, 512)    0           ['conv5_3_3x3/bn[0][0]']         \n",
            "                                                                                                  \n",
            " conv5_3_1x1_increase (Conv2D)  (None, 7, 7, 2048)   1048576     ['activation_146[0][0]']         \n",
            "                                                                                                  \n",
            " conv5_3_1x1_increase/bn (Batch  (None, 7, 7, 2048)  8192        ['conv5_3_1x1_increase[0][0]']   \n",
            " Normalization)                                                                                   \n",
            "                                                                                                  \n",
            " add_47 (Add)                   (None, 7, 7, 2048)   0           ['conv5_3_1x1_increase/bn[0][0]',\n",
            "                                                                  'activation_144[0][0]']         \n",
            "                                                                                                  \n",
            " activation_147 (Activation)    (None, 7, 7, 2048)   0           ['add_47[0][0]']                 \n",
            "                                                                                                  \n",
            " avg_pool (AveragePooling2D)    (None, 1, 1, 2048)   0           ['activation_147[0][0]']         \n",
            "                                                                                                  \n",
            "==================================================================================================\n",
            "Total params: 23,561,152\n",
            "Trainable params: 0\n",
            "Non-trainable params: 23,561,152\n",
            "__________________________________________________________________________________________________\n"
          ]
        }
      ]
    },
    {
      "cell_type": "code",
      "source": [
        "last_layer = pre_trained_model.get_layer('activation_141')\n",
        "print('last layer output shape: ', last_layer.output_shape)\n",
        "last_output = last_layer.output"
      ],
      "metadata": {
        "colab": {
          "base_uri": "https://localhost:8080/"
        },
        "id": "_eTxeJP70LQb",
        "outputId": "0257fdb2-40c5-407b-b6f2-c5a328dd523f"
      },
      "execution_count": 48,
      "outputs": [
        {
          "output_type": "stream",
          "name": "stdout",
          "text": [
            "last layer output shape:  (None, 7, 7, 2048)\n"
          ]
        }
      ]
    },
    {
      "cell_type": "code",
      "source": [
        "from tensorflow.keras.optimizers import RMSprop\n",
        "from tensorflow.keras import Model\n",
        "from tensorflow.keras import layers"
      ],
      "metadata": {
        "id": "X4AgFwOj0Pp-"
      },
      "execution_count": 49,
      "outputs": []
    },
    {
      "cell_type": "code",
      "source": [
        "import glob\n",
        "\n",
        "folders = glob.glob('/content/drive/MyDrive/dataset/image/*')\n",
        "# Flatten the output layer to 1 dimension\n",
        "x = layers.Conv2D(1024, (7,7), activation='relu')(last_output)\n",
        "\n",
        "# Add a dropout rate of 0.5\n",
        "x = layers.Dropout(0.5)(x)   \n",
        "\n",
        "# Flatten the output layer to 1 dimension\n",
        "x = layers.Conv2D(1024, (1,1), activation='relu')(x)\n",
        "\n",
        "# Add a dropout rate of 0.5\n",
        "x = layers.Dropout(0.5)(x)  \n",
        "\n",
        "# Flatten the output layer to 1 dimension\n",
        "x = layers.Conv2D(1024, (1,1))(x)\n",
        "\n",
        "# Add a final sigmoid layer for classification\n",
        "x = layers.Flatten()(x)\n",
        "\n",
        "# Add a fully connected layer with 1,024 hidden units and ReLU activation\n",
        "x = layers.Dense(1024, activation='relu')(x)\n",
        "                 \n",
        "# Add a fully connected layer with 1,024 hidden units and ReLU activation\n",
        "x = layers.Dense(512, activation='relu')(x)\n",
        "\n",
        "x = layers.Dense(len(folders), activation='softmax')"
      ],
      "metadata": {
        "id": "CjE1pbUM-dc3"
      },
      "execution_count": 50,
      "outputs": []
    },
    {
      "cell_type": "code",
      "source": [
        "import glob\n",
        "category = {}\n",
        "folders = glob.glob('/content/drive/MyDrive/dataset/image/*')\n",
        "for i, name in enumerate(folders):\n",
        "  category[i] = name.split('/')[-1]"
      ],
      "metadata": {
        "id": "NZtmpXR7F-1c"
      },
      "execution_count": 51,
      "outputs": []
    },
    {
      "cell_type": "code",
      "source": [
        "category"
      ],
      "metadata": {
        "colab": {
          "base_uri": "https://localhost:8080/"
        },
        "id": "KXntL7LHVniN",
        "outputId": "b63849d5-17ff-4033-9b39-0886bac5a7cf"
      },
      "execution_count": 52,
      "outputs": [
        {
          "output_type": "execute_result",
          "data": {
            "text/plain": [
              "{0: 'ashel',\n",
              " 1: 'shani',\n",
              " 2: 'marsha',\n",
              " 3: 'gracia',\n",
              " 4: 'saka',\n",
              " 5: 'kounde',\n",
              " 6: 'frenkie',\n",
              " 7: 'momo'}"
            ]
          },
          "metadata": {},
          "execution_count": 52
        }
      ]
    },
    {
      "cell_type": "code",
      "source": [
        "model = Model(pre_trained_model.input, x) "
      ],
      "metadata": {
        "colab": {
          "base_uri": "https://localhost:8080/",
          "height": 311
        },
        "id": "PeeUTzAfBwxN",
        "outputId": "ed0e64d0-e7f7-4b66-9445-b9791d71a3fc"
      },
      "execution_count": 53,
      "outputs": [
        {
          "output_type": "error",
          "ename": "ValueError",
          "evalue": "ignored",
          "traceback": [
            "\u001b[0;31m---------------------------------------------------------------------------\u001b[0m",
            "\u001b[0;31mValueError\u001b[0m                                Traceback (most recent call last)",
            "\u001b[0;32m<ipython-input-53-81c998bcf86d>\u001b[0m in \u001b[0;36m<cell line: 1>\u001b[0;34m()\u001b[0m\n\u001b[0;32m----> 1\u001b[0;31m \u001b[0mmodel\u001b[0m \u001b[0;34m=\u001b[0m \u001b[0mModel\u001b[0m\u001b[0;34m(\u001b[0m\u001b[0mpre_trained_model\u001b[0m\u001b[0;34m.\u001b[0m\u001b[0minput\u001b[0m\u001b[0;34m,\u001b[0m \u001b[0mx\u001b[0m\u001b[0;34m)\u001b[0m\u001b[0;34m\u001b[0m\u001b[0;34m\u001b[0m\u001b[0m\n\u001b[0m",
            "\u001b[0;32m/usr/local/lib/python3.10/dist-packages/tensorflow/python/trackable/base.py\u001b[0m in \u001b[0;36m_method_wrapper\u001b[0;34m(self, *args, **kwargs)\u001b[0m\n\u001b[1;32m    203\u001b[0m     \u001b[0mself\u001b[0m\u001b[0;34m.\u001b[0m\u001b[0m_self_setattr_tracking\u001b[0m \u001b[0;34m=\u001b[0m \u001b[0;32mFalse\u001b[0m  \u001b[0;31m# pylint: disable=protected-access\u001b[0m\u001b[0;34m\u001b[0m\u001b[0;34m\u001b[0m\u001b[0m\n\u001b[1;32m    204\u001b[0m     \u001b[0;32mtry\u001b[0m\u001b[0;34m:\u001b[0m\u001b[0;34m\u001b[0m\u001b[0;34m\u001b[0m\u001b[0m\n\u001b[0;32m--> 205\u001b[0;31m       \u001b[0mresult\u001b[0m \u001b[0;34m=\u001b[0m \u001b[0mmethod\u001b[0m\u001b[0;34m(\u001b[0m\u001b[0mself\u001b[0m\u001b[0;34m,\u001b[0m \u001b[0;34m*\u001b[0m\u001b[0margs\u001b[0m\u001b[0;34m,\u001b[0m \u001b[0;34m**\u001b[0m\u001b[0mkwargs\u001b[0m\u001b[0;34m)\u001b[0m\u001b[0;34m\u001b[0m\u001b[0;34m\u001b[0m\u001b[0m\n\u001b[0m\u001b[1;32m    206\u001b[0m     \u001b[0;32mfinally\u001b[0m\u001b[0;34m:\u001b[0m\u001b[0;34m\u001b[0m\u001b[0;34m\u001b[0m\u001b[0m\n\u001b[1;32m    207\u001b[0m       \u001b[0mself\u001b[0m\u001b[0;34m.\u001b[0m\u001b[0m_self_setattr_tracking\u001b[0m \u001b[0;34m=\u001b[0m \u001b[0mprevious_value\u001b[0m  \u001b[0;31m# pylint: disable=protected-access\u001b[0m\u001b[0;34m\u001b[0m\u001b[0;34m\u001b[0m\u001b[0m\n",
            "\u001b[0;32m/usr/local/lib/python3.10/dist-packages/keras/engine/functional.py\u001b[0m in \u001b[0;36m__init__\u001b[0;34m(self, inputs, outputs, name, trainable, **kwargs)\u001b[0m\n\u001b[1;32m    165\u001b[0m                     \u001b[0minputs\u001b[0m\u001b[0;34m,\u001b[0m \u001b[0moutputs\u001b[0m\u001b[0;34m\u001b[0m\u001b[0;34m\u001b[0m\u001b[0m\n\u001b[1;32m    166\u001b[0m                 )\n\u001b[0;32m--> 167\u001b[0;31m         \u001b[0mself\u001b[0m\u001b[0;34m.\u001b[0m\u001b[0m_init_graph_network\u001b[0m\u001b[0;34m(\u001b[0m\u001b[0minputs\u001b[0m\u001b[0;34m,\u001b[0m \u001b[0moutputs\u001b[0m\u001b[0;34m)\u001b[0m\u001b[0;34m\u001b[0m\u001b[0;34m\u001b[0m\u001b[0m\n\u001b[0m\u001b[1;32m    168\u001b[0m \u001b[0;34m\u001b[0m\u001b[0m\n\u001b[1;32m    169\u001b[0m     \u001b[0;34m@\u001b[0m\u001b[0mtf\u001b[0m\u001b[0;34m.\u001b[0m\u001b[0m__internal__\u001b[0m\u001b[0;34m.\u001b[0m\u001b[0mtracking\u001b[0m\u001b[0;34m.\u001b[0m\u001b[0mno_automatic_dependency_tracking\u001b[0m\u001b[0;34m\u001b[0m\u001b[0;34m\u001b[0m\u001b[0m\n",
            "\u001b[0;32m/usr/local/lib/python3.10/dist-packages/tensorflow/python/trackable/base.py\u001b[0m in \u001b[0;36m_method_wrapper\u001b[0;34m(self, *args, **kwargs)\u001b[0m\n\u001b[1;32m    203\u001b[0m     \u001b[0mself\u001b[0m\u001b[0;34m.\u001b[0m\u001b[0m_self_setattr_tracking\u001b[0m \u001b[0;34m=\u001b[0m \u001b[0;32mFalse\u001b[0m  \u001b[0;31m# pylint: disable=protected-access\u001b[0m\u001b[0;34m\u001b[0m\u001b[0;34m\u001b[0m\u001b[0m\n\u001b[1;32m    204\u001b[0m     \u001b[0;32mtry\u001b[0m\u001b[0;34m:\u001b[0m\u001b[0;34m\u001b[0m\u001b[0;34m\u001b[0m\u001b[0m\n\u001b[0;32m--> 205\u001b[0;31m       \u001b[0mresult\u001b[0m \u001b[0;34m=\u001b[0m \u001b[0mmethod\u001b[0m\u001b[0;34m(\u001b[0m\u001b[0mself\u001b[0m\u001b[0;34m,\u001b[0m \u001b[0;34m*\u001b[0m\u001b[0margs\u001b[0m\u001b[0;34m,\u001b[0m \u001b[0;34m**\u001b[0m\u001b[0mkwargs\u001b[0m\u001b[0;34m)\u001b[0m\u001b[0;34m\u001b[0m\u001b[0;34m\u001b[0m\u001b[0m\n\u001b[0m\u001b[1;32m    206\u001b[0m     \u001b[0;32mfinally\u001b[0m\u001b[0;34m:\u001b[0m\u001b[0;34m\u001b[0m\u001b[0;34m\u001b[0m\u001b[0m\n\u001b[1;32m    207\u001b[0m       \u001b[0mself\u001b[0m\u001b[0;34m.\u001b[0m\u001b[0m_self_setattr_tracking\u001b[0m \u001b[0;34m=\u001b[0m \u001b[0mprevious_value\u001b[0m  \u001b[0;31m# pylint: disable=protected-access\u001b[0m\u001b[0;34m\u001b[0m\u001b[0;34m\u001b[0m\u001b[0m\n",
            "\u001b[0;32m/usr/local/lib/python3.10/dist-packages/keras/engine/functional.py\u001b[0m in \u001b[0;36m_init_graph_network\u001b[0;34m(self, inputs, outputs)\u001b[0m\n\u001b[1;32m    207\u001b[0m                 \u001b[0mbase_layer_utils\u001b[0m\u001b[0;34m.\u001b[0m\u001b[0mcreate_keras_history\u001b[0m\u001b[0;34m(\u001b[0m\u001b[0mself\u001b[0m\u001b[0;34m.\u001b[0m\u001b[0m_nested_outputs\u001b[0m\u001b[0;34m)\u001b[0m\u001b[0;34m\u001b[0m\u001b[0;34m\u001b[0m\u001b[0m\n\u001b[1;32m    208\u001b[0m \u001b[0;34m\u001b[0m\u001b[0m\n\u001b[0;32m--> 209\u001b[0;31m         \u001b[0mself\u001b[0m\u001b[0;34m.\u001b[0m\u001b[0m_validate_graph_inputs_and_outputs\u001b[0m\u001b[0;34m(\u001b[0m\u001b[0;34m)\u001b[0m\u001b[0;34m\u001b[0m\u001b[0;34m\u001b[0m\u001b[0m\n\u001b[0m\u001b[1;32m    210\u001b[0m \u001b[0;34m\u001b[0m\u001b[0m\n\u001b[1;32m    211\u001b[0m         \u001b[0;31m# A Network does not create weights of its own, thus it is already\u001b[0m\u001b[0;34m\u001b[0m\u001b[0;34m\u001b[0m\u001b[0m\n",
            "\u001b[0;32m/usr/local/lib/python3.10/dist-packages/keras/engine/functional.py\u001b[0m in \u001b[0;36m_validate_graph_inputs_and_outputs\u001b[0;34m(self)\u001b[0m\n\u001b[1;32m    870\u001b[0m             \u001b[0;32mif\u001b[0m \u001b[0;32mnot\u001b[0m \u001b[0mhasattr\u001b[0m\u001b[0;34m(\u001b[0m\u001b[0mx\u001b[0m\u001b[0;34m,\u001b[0m \u001b[0;34m\"_keras_history\"\u001b[0m\u001b[0;34m)\u001b[0m\u001b[0;34m:\u001b[0m\u001b[0;34m\u001b[0m\u001b[0;34m\u001b[0m\u001b[0m\n\u001b[1;32m    871\u001b[0m                 \u001b[0mcls_name\u001b[0m \u001b[0;34m=\u001b[0m \u001b[0mself\u001b[0m\u001b[0;34m.\u001b[0m\u001b[0m__class__\u001b[0m\u001b[0;34m.\u001b[0m\u001b[0m__name__\u001b[0m\u001b[0;34m\u001b[0m\u001b[0;34m\u001b[0m\u001b[0m\n\u001b[0;32m--> 872\u001b[0;31m                 raise ValueError(\n\u001b[0m\u001b[1;32m    873\u001b[0m                     \u001b[0;34mf\"Output tensors of a {cls_name} model must be \"\u001b[0m\u001b[0;34m\u001b[0m\u001b[0;34m\u001b[0m\u001b[0m\n\u001b[1;32m    874\u001b[0m                     \u001b[0;34m\"the output of a TensorFlow `Layer` \"\u001b[0m\u001b[0;34m\u001b[0m\u001b[0;34m\u001b[0m\u001b[0m\n",
            "\u001b[0;31mValueError\u001b[0m: Output tensors of a Functional model must be the output of a TensorFlow `Layer` (thus holding past layer metadata). Found: <keras.layers.core.dense.Dense object at 0x7f12fa50bfa0>"
          ]
        }
      ]
    },
    {
      "cell_type": "code",
      "source": [],
      "metadata": {
        "id": "QeUOw9jpltCS"
      },
      "execution_count": null,
      "outputs": []
    }
  ]
}