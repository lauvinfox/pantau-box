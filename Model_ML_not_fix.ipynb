{
  "nbformat": 4,
  "nbformat_minor": 0,
  "metadata": {
    "colab": {
      "provenance": []
    },
    "kernelspec": {
      "name": "python3",
      "display_name": "Python 3"
    },
    "language_info": {
      "name": "python"
    }
  },
  "cells": [
    {
      "cell_type": "code",
      "execution_count": null,
      "metadata": {
        "id": "DgSZvLp79gj3"
      },
      "outputs": [],
      "source": [
        "import cv2\n",
        "import os\n",
        "import numpy as np\n",
        "import tensorflow as tf\n",
        "from tensorflow.python.keras.utils import np_utils\n",
        "from tensorflow.keras.models import Sequential\n",
        "from tensorflow.keras.layers import Dense\n",
        "from tensorflow.keras.layers import Dropout\n",
        "from tensorflow.keras.layers import Flatten\n",
        "from tensorflow.python.keras.constraints import maxnorm\n",
        "from tensorflow.keras.optimizers import SGD\n",
        "from tensorflow.python.keras.layers.convolutional import Conv2D\n",
        "from tensorflow.python.keras.layers.convolutional import MaxPooling2D"
      ]
    },
    {
      "cell_type": "code",
      "source": [
        "from tensorflow.python.keras.models import model_from_json\n",
        "from tensorflow.python.keras.models import load_model\n",
        "from sklearn.utils import shuffle\n",
        "from sklearn.model_selection import train_test_split"
      ],
      "metadata": {
        "id": "Il89U2VXA_Iz"
      },
      "execution_count": null,
      "outputs": []
    },
    {
      "cell_type": "code",
      "source": [
        "people = [people for people in os.listdir(\"output_image/\")]\n",
        "print(people)\n",
        "num_classes = 3\n",
        "img_data_list = []\n",
        "labels = []\n",
        "valid_images = [\".jpg\"]"
      ],
      "metadata": {
        "colab": {
          "base_uri": "https://localhost:8080/"
        },
        "id": "9SNzzlicBF7b",
        "outputId": "f0cc9ee9-83e3-44b8-b429-6c1a9f490f9f"
      },
      "execution_count": null,
      "outputs": [
        {
          "output_type": "stream",
          "name": "stdout",
          "text": [
            "['.ipynb_checkpoints', 'hillary', 'jokowi']\n"
          ]
        }
      ]
    },
    {
      "cell_type": "code",
      "source": [
        "for index, person in enumerate(people):\n",
        "  print(index)\n",
        "  dir_path = 'output_image/' + person\n",
        "  print(dir_path)\n",
        "  for img_path in os.listdir(dir_path):\n",
        "    name, ext = os.path.splitext(img_path)\n",
        "    if ext.lower() not in valid_images:\n",
        "        continue\n",
        "    img_data = cv2.imread(dir_path + '/' + img_path)\n",
        "    # convert image to gray\n",
        "    img_data=cv2.cvtColor(img_data, cv2.COLOR_BGR2GRAY)\n",
        "    img_data_list.append(img_data)\n",
        "    labels.append(index)\n",
        "img_data = np.array(img_data_list)\n",
        "img_data = img_data.astype('float32')\n",
        "\n",
        "labels = np.array(labels ,dtype='int64')\n",
        "# scale down(so easy to work with)\n",
        "img_data /= 255.0\n",
        "img_data= np.expand_dims(img_data, axis=3)\n",
        "# convert class labels to on-hot encoding\n",
        "Y = np_utils.to_categorical(labels, num_classes)\n",
        "#Shuffle the dataset\n",
        "x,y = shuffle(img_data,Y, random_state=2)\n",
        "# Split the dataset\n",
        "X_train, X_test, y_train, y_test = train_test_split(x, y, test_size=0.2, random_state=2)"
      ],
      "metadata": {
        "id": "_89A8VG_BGHV",
        "colab": {
          "base_uri": "https://localhost:8080/"
        },
        "outputId": "f53ea829-04e6-48d0-ea1a-88a5d431c288"
      },
      "execution_count": null,
      "outputs": [
        {
          "output_type": "stream",
          "name": "stdout",
          "text": [
            "0\n",
            "output_image/.ipynb_checkpoints\n",
            "1\n",
            "output_image/hillary\n",
            "2\n",
            "output_image/jokowi\n"
          ]
        }
      ]
    },
    {
      "cell_type": "code",
      "source": [
        "input_shape=img_data[0].shape\n",
        "print(input_shape)\n",
        "model= tf.keras.models.Sequential([ \n",
        "  tf.keras.layers.Conv2D(32, (3, 3), input_shape=input_shape, padding='same', activation='relu',\n",
        "                 kernel_constraint=maxnorm(3)),\n",
        "  tf.keras.layers.Dropout(0.2),\n",
        "  tf.keras.layers.Conv2D(32, (3, 3), activation='relu', padding='same', kernel_constraint=maxnorm(3)),\n",
        "  tf.keras.layers.Flatten(),\n",
        "  tf.keras.layers.Dense(512, activation='relu', kernel_constraint=maxnorm(3)),\n",
        "  tf.keras.layers.Dropout(0.5),\n",
        "  tf.keras.layers.Dense(num_classes, activation='softmax')\n",
        "])\n"
      ],
      "metadata": {
        "id": "nrt8kWaRBGJz",
        "colab": {
          "base_uri": "https://localhost:8080/"
        },
        "outputId": "89bedc4e-388a-4f2c-aa22-459332a1c63e"
      },
      "execution_count": null,
      "outputs": [
        {
          "output_type": "stream",
          "name": "stdout",
          "text": [
            "(64, 64, 1)\n"
          ]
        }
      ]
    },
    {
      "cell_type": "code",
      "source": [
        "epochs = 100\n",
        "learning_rate = 0.01\n",
        "sgd = SGD(learning_rate=learning_rate, momentum=0.9, nesterov=False)\n",
        "model.compile(loss='categorical_crossentropy',\n",
        "                    optimizer= sgd,\n",
        "                    metrics=['accuracy'])\n",
        "print(model.summary())\n"
      ],
      "metadata": {
        "id": "q7Lp05nxBGME",
        "colab": {
          "base_uri": "https://localhost:8080/"
        },
        "outputId": "86fc6d52-7754-4910-f93a-9f9965f636ed"
      },
      "execution_count": null,
      "outputs": [
        {
          "output_type": "stream",
          "name": "stdout",
          "text": [
            "Model: \"sequential\"\n",
            "_________________________________________________________________\n",
            " Layer (type)                Output Shape              Param #   \n",
            "=================================================================\n",
            " conv2d (Conv2D)             (None, 64, 64, 32)        320       \n",
            "                                                                 \n",
            " dropout (Dropout)           (None, 64, 64, 32)        0         \n",
            "                                                                 \n",
            " conv2d_1 (Conv2D)           (None, 64, 64, 32)        9248      \n",
            "                                                                 \n",
            " flatten (Flatten)           (None, 131072)            0         \n",
            "                                                                 \n",
            " dense (Dense)               (None, 512)               67109376  \n",
            "                                                                 \n",
            " dropout_1 (Dropout)         (None, 512)               0         \n",
            "                                                                 \n",
            " dense_1 (Dense)             (None, 3)                 1539      \n",
            "                                                                 \n",
            "=================================================================\n",
            "Total params: 67,120,483\n",
            "Trainable params: 67,120,483\n",
            "Non-trainable params: 0\n",
            "_________________________________________________________________\n",
            "None\n"
          ]
        }
      ]
    },
    {
      "cell_type": "code",
      "source": [
        "model.fit(X_train, y_train, validation_data=(X_test, y_test), epochs=epochs, batch_size=32)"
      ],
      "metadata": {
        "colab": {
          "base_uri": "https://localhost:8080/"
        },
        "id": "GVDE0mcfEGsQ",
        "outputId": "8e3c0c1d-a593-4d2f-d742-20a1bafd3f81"
      },
      "execution_count": null,
      "outputs": [
        {
          "output_type": "stream",
          "name": "stdout",
          "text": [
            "Epoch 1/100\n",
            "1/1 [==============================] - 2s 2s/step - loss: 1.1064 - accuracy: 0.2667 - val_loss: 0.8732 - val_accuracy: 0.5000\n",
            "Epoch 2/100\n",
            "1/1 [==============================] - 1s 1s/step - loss: 0.9156 - accuracy: 0.6667 - val_loss: 0.7219 - val_accuracy: 1.0000\n",
            "Epoch 3/100\n",
            "1/1 [==============================] - 1s 1s/step - loss: 0.7840 - accuracy: 0.5333 - val_loss: 0.6492 - val_accuracy: 0.7500\n",
            "Epoch 4/100\n",
            "1/1 [==============================] - 1s 1s/step - loss: 0.6169 - accuracy: 0.8000 - val_loss: 0.5935 - val_accuracy: 0.7500\n",
            "Epoch 5/100\n",
            "1/1 [==============================] - 1s 1s/step - loss: 0.6388 - accuracy: 0.6667 - val_loss: 0.5435 - val_accuracy: 1.0000\n",
            "Epoch 6/100\n",
            "1/1 [==============================] - 1s 1s/step - loss: 0.6420 - accuracy: 0.6667 - val_loss: 0.8134 - val_accuracy: 0.5000\n",
            "Epoch 7/100\n",
            "1/1 [==============================] - 1s 1s/step - loss: 0.8164 - accuracy: 0.6000 - val_loss: 1.0773 - val_accuracy: 0.5000\n",
            "Epoch 8/100\n",
            "1/1 [==============================] - 1s 1s/step - loss: 0.7790 - accuracy: 0.4667 - val_loss: 0.5011 - val_accuracy: 0.5000\n",
            "Epoch 9/100\n",
            "1/1 [==============================] - 2s 2s/step - loss: 0.5129 - accuracy: 0.6000 - val_loss: 0.7171 - val_accuracy: 0.5000\n",
            "Epoch 10/100\n",
            "1/1 [==============================] - 2s 2s/step - loss: 0.6392 - accuracy: 0.7333 - val_loss: 0.6184 - val_accuracy: 0.5000\n",
            "Epoch 11/100\n",
            "1/1 [==============================] - 1s 1s/step - loss: 0.5599 - accuracy: 0.8000 - val_loss: 0.3877 - val_accuracy: 1.0000\n",
            "Epoch 12/100\n",
            "1/1 [==============================] - 1s 1s/step - loss: 0.3651 - accuracy: 0.8000 - val_loss: 0.5874 - val_accuracy: 0.5000\n",
            "Epoch 13/100\n",
            "1/1 [==============================] - 1s 1s/step - loss: 0.5192 - accuracy: 0.7333 - val_loss: 0.5644 - val_accuracy: 0.5000\n",
            "Epoch 14/100\n",
            "1/1 [==============================] - 1s 1s/step - loss: 0.4635 - accuracy: 0.8667 - val_loss: 0.4678 - val_accuracy: 0.5000\n",
            "Epoch 15/100\n",
            "1/1 [==============================] - 1s 1s/step - loss: 0.4495 - accuracy: 0.8667 - val_loss: 0.3706 - val_accuracy: 1.0000\n",
            "Epoch 16/100\n",
            "1/1 [==============================] - 1s 1s/step - loss: 0.3673 - accuracy: 0.9333 - val_loss: 0.2616 - val_accuracy: 1.0000\n",
            "Epoch 17/100\n",
            "1/1 [==============================] - 1s 1s/step - loss: 0.4417 - accuracy: 0.9333 - val_loss: 0.1888 - val_accuracy: 1.0000\n",
            "Epoch 18/100\n",
            "1/1 [==============================] - 1s 1s/step - loss: 0.2292 - accuracy: 0.9333 - val_loss: 0.1497 - val_accuracy: 1.0000\n",
            "Epoch 19/100\n",
            "1/1 [==============================] - 1s 1s/step - loss: 0.3508 - accuracy: 0.8667 - val_loss: 0.5036 - val_accuracy: 0.5000\n",
            "Epoch 20/100\n",
            "1/1 [==============================] - 2s 2s/step - loss: 0.1813 - accuracy: 0.9333 - val_loss: 0.9282 - val_accuracy: 0.5000\n",
            "Epoch 21/100\n",
            "1/1 [==============================] - 2s 2s/step - loss: 0.3299 - accuracy: 0.9333 - val_loss: 0.1183 - val_accuracy: 1.0000\n",
            "Epoch 22/100\n",
            "1/1 [==============================] - 1s 1s/step - loss: 0.1522 - accuracy: 0.9333 - val_loss: 0.0247 - val_accuracy: 1.0000\n",
            "Epoch 23/100\n",
            "1/1 [==============================] - 1s 1s/step - loss: 0.2952 - accuracy: 0.9333 - val_loss: 0.0655 - val_accuracy: 1.0000\n",
            "Epoch 24/100\n",
            "1/1 [==============================] - 1s 1s/step - loss: 0.3467 - accuracy: 0.8667 - val_loss: 0.0433 - val_accuracy: 1.0000\n",
            "Epoch 25/100\n",
            "1/1 [==============================] - 1s 1s/step - loss: 0.0919 - accuracy: 1.0000 - val_loss: 0.9477 - val_accuracy: 0.5000\n",
            "Epoch 26/100\n",
            "1/1 [==============================] - 1s 1s/step - loss: 0.0769 - accuracy: 1.0000 - val_loss: 2.4927 - val_accuracy: 0.5000\n",
            "Epoch 27/100\n",
            "1/1 [==============================] - 1s 1s/step - loss: 0.2398 - accuracy: 0.9333 - val_loss: 1.9328 - val_accuracy: 0.5000\n",
            "Epoch 28/100\n",
            "1/1 [==============================] - 1s 1s/step - loss: 0.3178 - accuracy: 0.9333 - val_loss: 0.2475 - val_accuracy: 1.0000\n",
            "Epoch 29/100\n",
            "1/1 [==============================] - 1s 1s/step - loss: 0.1770 - accuracy: 0.9333 - val_loss: 0.0258 - val_accuracy: 1.0000\n",
            "Epoch 30/100\n",
            "1/1 [==============================] - 1s 1s/step - loss: 0.1899 - accuracy: 0.9333 - val_loss: 0.2298 - val_accuracy: 0.7500\n",
            "Epoch 31/100\n",
            "1/1 [==============================] - 2s 2s/step - loss: 0.4739 - accuracy: 0.8000 - val_loss: 0.3107 - val_accuracy: 0.7500\n",
            "Epoch 32/100\n",
            "1/1 [==============================] - 2s 2s/step - loss: 0.3952 - accuracy: 0.8000 - val_loss: 0.0939 - val_accuracy: 1.0000\n",
            "Epoch 33/100\n",
            "1/1 [==============================] - 1s 1s/step - loss: 0.2895 - accuracy: 0.8667 - val_loss: 0.1922 - val_accuracy: 0.7500\n",
            "Epoch 34/100\n",
            "1/1 [==============================] - 1s 1s/step - loss: 0.1478 - accuracy: 1.0000 - val_loss: 0.5641 - val_accuracy: 0.7500\n",
            "Epoch 35/100\n",
            "1/1 [==============================] - 1s 1s/step - loss: 0.0989 - accuracy: 1.0000 - val_loss: 1.4060 - val_accuracy: 0.5000\n",
            "Epoch 36/100\n",
            "1/1 [==============================] - 1s 1s/step - loss: 0.0757 - accuracy: 1.0000 - val_loss: 2.4294 - val_accuracy: 0.5000\n",
            "Epoch 37/100\n",
            "1/1 [==============================] - 1s 1s/step - loss: 0.2722 - accuracy: 0.9333 - val_loss: 1.7330 - val_accuracy: 0.5000\n",
            "Epoch 38/100\n",
            "1/1 [==============================] - 1s 1s/step - loss: 0.0548 - accuracy: 1.0000 - val_loss: 0.8145 - val_accuracy: 0.7500\n",
            "Epoch 39/100\n",
            "1/1 [==============================] - 1s 1s/step - loss: 0.0228 - accuracy: 1.0000 - val_loss: 0.2803 - val_accuracy: 0.7500\n",
            "Epoch 40/100\n",
            "1/1 [==============================] - 1s 1s/step - loss: 0.0257 - accuracy: 1.0000 - val_loss: 0.0500 - val_accuracy: 1.0000\n",
            "Epoch 41/100\n",
            "1/1 [==============================] - 1s 1s/step - loss: 0.0176 - accuracy: 1.0000 - val_loss: 0.0042 - val_accuracy: 1.0000\n",
            "Epoch 42/100\n",
            "1/1 [==============================] - 1s 1s/step - loss: 0.0206 - accuracy: 1.0000 - val_loss: 3.1651e-04 - val_accuracy: 1.0000\n",
            "Epoch 43/100\n",
            "1/1 [==============================] - 2s 2s/step - loss: 0.0757 - accuracy: 0.9333 - val_loss: 0.0083 - val_accuracy: 1.0000\n",
            "Epoch 44/100\n",
            "1/1 [==============================] - 2s 2s/step - loss: 0.0021 - accuracy: 1.0000 - val_loss: 0.1953 - val_accuracy: 0.7500\n",
            "Epoch 45/100\n",
            "1/1 [==============================] - 1s 1s/step - loss: 9.0608e-04 - accuracy: 1.0000 - val_loss: 1.4700 - val_accuracy: 0.5000\n",
            "Epoch 46/100\n",
            "1/1 [==============================] - 1s 1s/step - loss: 9.8014e-04 - accuracy: 1.0000 - val_loss: 3.5870 - val_accuracy: 0.5000\n",
            "Epoch 47/100\n",
            "1/1 [==============================] - 1s 1s/step - loss: 7.1953e-04 - accuracy: 1.0000 - val_loss: 5.7007 - val_accuracy: 0.5000\n",
            "Epoch 48/100\n",
            "1/1 [==============================] - 1s 1s/step - loss: 0.6390 - accuracy: 0.8667 - val_loss: 1.2984e-04 - val_accuracy: 1.0000\n",
            "Epoch 49/100\n",
            "1/1 [==============================] - 1s 1s/step - loss: 0.0170 - accuracy: 1.0000 - val_loss: 1.1373 - val_accuracy: 0.7500\n",
            "Epoch 50/100\n",
            "1/1 [==============================] - 1s 1s/step - loss: 0.1331 - accuracy: 0.9333 - val_loss: 5.8030 - val_accuracy: 0.5000\n",
            "Epoch 51/100\n",
            "1/1 [==============================] - 1s 1s/step - loss: 1.7215 - accuracy: 0.7333 - val_loss: 1.6544 - val_accuracy: 0.7500\n",
            "Epoch 52/100\n",
            "1/1 [==============================] - 1s 1s/step - loss: 0.4294 - accuracy: 0.8667 - val_loss: 0.1801 - val_accuracy: 1.0000\n",
            "Epoch 53/100\n",
            "1/1 [==============================] - 1s 1s/step - loss: 0.2452 - accuracy: 0.8667 - val_loss: 0.3069 - val_accuracy: 0.7500\n",
            "Epoch 54/100\n",
            "1/1 [==============================] - 2s 2s/step - loss: 0.3264 - accuracy: 0.8667 - val_loss: 0.4385 - val_accuracy: 0.7500\n",
            "Epoch 55/100\n",
            "1/1 [==============================] - 2s 2s/step - loss: 0.3585 - accuracy: 0.8667 - val_loss: 0.5690 - val_accuracy: 0.5000\n",
            "Epoch 56/100\n",
            "1/1 [==============================] - 1s 1s/step - loss: 0.3424 - accuracy: 0.8667 - val_loss: 1.1132 - val_accuracy: 0.5000\n",
            "Epoch 57/100\n",
            "1/1 [==============================] - 1s 1s/step - loss: 0.3168 - accuracy: 0.8000 - val_loss: 2.0199 - val_accuracy: 0.5000\n",
            "Epoch 58/100\n",
            "1/1 [==============================] - 1s 1s/step - loss: 0.4960 - accuracy: 0.6667 - val_loss: 1.2445 - val_accuracy: 0.5000\n",
            "Epoch 59/100\n",
            "1/1 [==============================] - 1s 1s/step - loss: 0.1486 - accuracy: 1.0000 - val_loss: 0.9420 - val_accuracy: 0.5000\n",
            "Epoch 60/100\n",
            "1/1 [==============================] - 1s 1s/step - loss: 0.1427 - accuracy: 1.0000 - val_loss: 0.7862 - val_accuracy: 0.5000\n",
            "Epoch 61/100\n",
            "1/1 [==============================] - 1s 1s/step - loss: 0.1175 - accuracy: 1.0000 - val_loss: 0.5471 - val_accuracy: 0.7500\n",
            "Epoch 62/100\n",
            "1/1 [==============================] - 1s 1s/step - loss: 0.0541 - accuracy: 1.0000 - val_loss: 0.2583 - val_accuracy: 0.7500\n",
            "Epoch 63/100\n",
            "1/1 [==============================] - 1s 1s/step - loss: 0.0242 - accuracy: 1.0000 - val_loss: 0.0790 - val_accuracy: 1.0000\n",
            "Epoch 64/100\n",
            "1/1 [==============================] - 1s 1s/step - loss: 0.0309 - accuracy: 1.0000 - val_loss: 0.0164 - val_accuracy: 1.0000\n",
            "Epoch 65/100\n",
            "1/1 [==============================] - 2s 2s/step - loss: 0.0036 - accuracy: 1.0000 - val_loss: 0.0027 - val_accuracy: 1.0000\n",
            "Epoch 66/100\n",
            "1/1 [==============================] - 2s 2s/step - loss: 0.0057 - accuracy: 1.0000 - val_loss: 3.6437e-04 - val_accuracy: 1.0000\n",
            "Epoch 67/100\n",
            "1/1 [==============================] - 2s 2s/step - loss: 0.0011 - accuracy: 1.0000 - val_loss: 4.5981e-05 - val_accuracy: 1.0000\n",
            "Epoch 68/100\n",
            "1/1 [==============================] - 1s 1s/step - loss: 7.4912e-05 - accuracy: 1.0000 - val_loss: 5.5134e-06 - val_accuracy: 1.0000\n",
            "Epoch 69/100\n",
            "1/1 [==============================] - 1s 1s/step - loss: 2.1321e-05 - accuracy: 1.0000 - val_loss: 6.5565e-07 - val_accuracy: 1.0000\n",
            "Epoch 70/100\n",
            "1/1 [==============================] - 1s 1s/step - loss: 0.0166 - accuracy: 1.0000 - val_loss: 3.1292e-06 - val_accuracy: 1.0000\n",
            "Epoch 71/100\n",
            "1/1 [==============================] - 1s 1s/step - loss: 0.3042 - accuracy: 0.9333 - val_loss: 2.6127 - val_accuracy: 0.5000\n",
            "Epoch 72/100\n",
            "1/1 [==============================] - 1s 1s/step - loss: 0.0020 - accuracy: 1.0000 - val_loss: 11.6038 - val_accuracy: 0.5000\n",
            "Epoch 73/100\n",
            "1/1 [==============================] - 1s 1s/step - loss: 0.9471 - accuracy: 0.8667 - val_loss: 2.4177 - val_accuracy: 0.7500\n",
            "Epoch 74/100\n",
            "1/1 [==============================] - 1s 1s/step - loss: 2.5518 - accuracy: 0.9333 - val_loss: 0.0068 - val_accuracy: 1.0000\n",
            "Epoch 75/100\n",
            "1/1 [==============================] - 1s 1s/step - loss: 0.2747 - accuracy: 0.9333 - val_loss: 0.0605 - val_accuracy: 1.0000\n",
            "Epoch 76/100\n",
            "1/1 [==============================] - 1s 1s/step - loss: 0.4412 - accuracy: 0.8667 - val_loss: 0.3995 - val_accuracy: 0.7500\n",
            "Epoch 77/100\n",
            "1/1 [==============================] - 2s 2s/step - loss: 0.1882 - accuracy: 0.8667 - val_loss: 0.6688 - val_accuracy: 0.7500\n",
            "Epoch 78/100\n",
            "1/1 [==============================] - 2s 2s/step - loss: 0.1773 - accuracy: 0.8667 - val_loss: 0.9757 - val_accuracy: 0.5000\n",
            "Epoch 79/100\n",
            "1/1 [==============================] - 1s 1s/step - loss: 0.1766 - accuracy: 0.8667 - val_loss: 1.5482 - val_accuracy: 0.5000\n",
            "Epoch 80/100\n",
            "1/1 [==============================] - 1s 1s/step - loss: 0.3750 - accuracy: 0.8000 - val_loss: 0.7230 - val_accuracy: 0.7500\n",
            "Epoch 81/100\n",
            "1/1 [==============================] - 1s 1s/step - loss: 0.1189 - accuracy: 1.0000 - val_loss: 0.3864 - val_accuracy: 0.7500\n",
            "Epoch 82/100\n",
            "1/1 [==============================] - 1s 1s/step - loss: 0.1663 - accuracy: 1.0000 - val_loss: 0.3456 - val_accuracy: 0.7500\n",
            "Epoch 83/100\n",
            "1/1 [==============================] - 1s 1s/step - loss: 0.1354 - accuracy: 1.0000 - val_loss: 0.3265 - val_accuracy: 0.7500\n",
            "Epoch 84/100\n",
            "1/1 [==============================] - 1s 1s/step - loss: 0.4740 - accuracy: 0.8667 - val_loss: 0.0969 - val_accuracy: 1.0000\n",
            "Epoch 85/100\n",
            "1/1 [==============================] - 1s 1s/step - loss: 0.1023 - accuracy: 1.0000 - val_loss: 0.0420 - val_accuracy: 1.0000\n",
            "Epoch 86/100\n",
            "1/1 [==============================] - 1s 1s/step - loss: 0.1060 - accuracy: 1.0000 - val_loss: 0.0281 - val_accuracy: 1.0000\n",
            "Epoch 87/100\n",
            "1/1 [==============================] - 1s 1s/step - loss: 0.0968 - accuracy: 1.0000 - val_loss: 0.0293 - val_accuracy: 1.0000\n",
            "Epoch 88/100\n",
            "1/1 [==============================] - 2s 2s/step - loss: 0.0859 - accuracy: 1.0000 - val_loss: 0.0221 - val_accuracy: 1.0000\n",
            "Epoch 89/100\n",
            "1/1 [==============================] - 2s 2s/step - loss: 0.0748 - accuracy: 0.9333 - val_loss: 0.0169 - val_accuracy: 1.0000\n",
            "Epoch 90/100\n",
            "1/1 [==============================] - 1s 1s/step - loss: 0.5588 - accuracy: 0.8667 - val_loss: 0.6505 - val_accuracy: 0.5000\n",
            "Epoch 91/100\n",
            "1/1 [==============================] - 1s 1s/step - loss: 0.0250 - accuracy: 1.0000 - val_loss: 2.5457 - val_accuracy: 0.5000\n",
            "Epoch 92/100\n",
            "1/1 [==============================] - 1s 1s/step - loss: 0.4693 - accuracy: 0.6667 - val_loss: 1.5835 - val_accuracy: 0.5000\n",
            "Epoch 93/100\n",
            "1/1 [==============================] - 1s 1s/step - loss: 0.0598 - accuracy: 1.0000 - val_loss: 1.1675 - val_accuracy: 0.5000\n",
            "Epoch 94/100\n",
            "1/1 [==============================] - 1s 1s/step - loss: 0.2978 - accuracy: 0.8667 - val_loss: 0.7176 - val_accuracy: 0.7500\n",
            "Epoch 95/100\n",
            "1/1 [==============================] - 1s 1s/step - loss: 0.0300 - accuracy: 1.0000 - val_loss: 0.4662 - val_accuracy: 0.7500\n",
            "Epoch 96/100\n",
            "1/1 [==============================] - 1s 1s/step - loss: 0.2111 - accuracy: 0.9333 - val_loss: 0.3413 - val_accuracy: 0.7500\n",
            "Epoch 97/100\n",
            "1/1 [==============================] - 1s 1s/step - loss: 0.0484 - accuracy: 1.0000 - val_loss: 2.6921 - val_accuracy: 0.7500\n",
            "Epoch 98/100\n",
            "1/1 [==============================] - 1s 1s/step - loss: 0.0981 - accuracy: 0.9333 - val_loss: 4.7996 - val_accuracy: 0.7500\n",
            "Epoch 99/100\n",
            "1/1 [==============================] - 2s 2s/step - loss: 0.0819 - accuracy: 1.0000 - val_loss: 5.9720 - val_accuracy: 0.7500\n",
            "Epoch 100/100\n",
            "1/1 [==============================] - 2s 2s/step - loss: 0.1207 - accuracy: 1.0000 - val_loss: 5.6029 - val_accuracy: 0.7500\n"
          ]
        },
        {
          "output_type": "execute_result",
          "data": {
            "text/plain": [
              "<keras.callbacks.History at 0x7fd4c2eec460>"
            ]
          },
          "metadata": {},
          "execution_count": 10
        }
      ]
    },
    {
      "cell_type": "code",
      "source": [
        "scores = model.evaluate(X_test, y_test, verbose=0)\n",
        "print(\"Accuracy: %.2f%%\" % (scores[1]*100))"
      ],
      "metadata": {
        "colab": {
          "base_uri": "https://localhost:8080/"
        },
        "id": "nxhlQ1EwFF76",
        "outputId": "4f7d3af8-f53b-4eef-e2d8-3cb114ba1344"
      },
      "execution_count": null,
      "outputs": [
        {
          "output_type": "stream",
          "name": "stdout",
          "text": [
            "Accuracy: 75.00%\n"
          ]
        }
      ]
    },
    {
      "cell_type": "code",
      "source": [
        "model_json = model.to_json()\n",
        "with open(\"model.json\", \"w\") as json_file:\n",
        "    json_file.write(model_json)"
      ],
      "metadata": {
        "id": "S4dapmjDFF--"
      },
      "execution_count": null,
      "outputs": []
    },
    {
      "cell_type": "code",
      "source": [
        "model.save_weights(\"model.h5\")\n",
        "print(\"Saved model to disk\")"
      ],
      "metadata": {
        "colab": {
          "base_uri": "https://localhost:8080/"
        },
        "id": "uqRNhC-FFGBs",
        "outputId": "ffcc4b9d-0606-4b67-a7b4-983d7884a0dd"
      },
      "execution_count": null,
      "outputs": [
        {
          "output_type": "stream",
          "name": "stdout",
          "text": [
            "Saved model to disk\n"
          ]
        }
      ]
    },
    {
      "cell_type": "markdown",
      "source": [
        "TESTING"
      ],
      "metadata": {
        "id": "ypl3gHgZFUk0"
      }
    },
    {
      "cell_type": "code",
      "source": [
        "from imutils import face_utils\n",
        "from imutils.face_utils import FaceAligner\n",
        "import imutils\n",
        "import time\n",
        "import cv2\n",
        "import dlib\n",
        "import os\n",
        "import numpy as np"
      ],
      "metadata": {
        "id": "ZJ6bIvhUFVxV"
      },
      "execution_count": null,
      "outputs": []
    },
    {
      "cell_type": "code",
      "source": [
        "from tensorflow.python.keras.models import model_from_json\n",
        "from tensorflow.python.keras.models import load_model"
      ],
      "metadata": {
        "id": "-_AAo2DgFV2y"
      },
      "execution_count": null,
      "outputs": []
    },
    {
      "cell_type": "code",
      "source": [
        "json_file = open('model.json', 'r')\n",
        "loaded_model_json = json_file.read()\n",
        "json_file.close()\n",
        "loaded_model = model_from_json(loaded_model_json)"
      ],
      "metadata": {
        "id": "dNO6eUL2FdYI"
      },
      "execution_count": null,
      "outputs": []
    },
    {
      "cell_type": "code",
      "source": [
        "loaded_model.load_weights(\"model.h5\")\n",
        "print(\"Loaded model from disk\")\n",
        "print(\"[INFO] loading facial landmark predictor...\")\n",
        "detector = dlib.get_frontal_face_detector()\n",
        "predictor = dlib.shape_predictor(\"shape_predictor_68_face_landmarks.dat\")\n",
        "fa = FaceAligner(predictor, desiredFaceWidth=64)"
      ],
      "metadata": {
        "id": "c2w0mjPTFddC",
        "outputId": "dde65237-30ba-47ad-aeaa-701cc917e3e5",
        "colab": {
          "base_uri": "https://localhost:8080/"
        }
      },
      "execution_count": null,
      "outputs": [
        {
          "output_type": "stream",
          "name": "stdout",
          "text": [
            "Loaded model from disk\n",
            "[INFO] loading facial landmark predictor...\n"
          ]
        },
        {
          "output_type": "error",
          "ename": "RuntimeError",
          "evalue": "ignored",
          "traceback": [
            "\u001b[0;31m---------------------------------------------------------------------------\u001b[0m",
            "\u001b[0;31mRuntimeError\u001b[0m                              Traceback (most recent call last)",
            "\u001b[0;32m<ipython-input-74-fd831c3e704f>\u001b[0m in \u001b[0;36m<cell line: 5>\u001b[0;34m()\u001b[0m\n\u001b[1;32m      3\u001b[0m \u001b[0mprint\u001b[0m\u001b[0;34m(\u001b[0m\u001b[0;34m\"[INFO] loading facial landmark predictor...\"\u001b[0m\u001b[0;34m)\u001b[0m\u001b[0;34m\u001b[0m\u001b[0;34m\u001b[0m\u001b[0m\n\u001b[1;32m      4\u001b[0m \u001b[0mdetector\u001b[0m \u001b[0;34m=\u001b[0m \u001b[0mdlib\u001b[0m\u001b[0;34m.\u001b[0m\u001b[0mget_frontal_face_detector\u001b[0m\u001b[0;34m(\u001b[0m\u001b[0;34m)\u001b[0m\u001b[0;34m\u001b[0m\u001b[0;34m\u001b[0m\u001b[0m\n\u001b[0;32m----> 5\u001b[0;31m \u001b[0mpredictor\u001b[0m \u001b[0;34m=\u001b[0m \u001b[0mdlib\u001b[0m\u001b[0;34m.\u001b[0m\u001b[0mshape_predictor\u001b[0m\u001b[0;34m(\u001b[0m\u001b[0;34m\"shape_predictor_68_face_landmarks.dat\"\u001b[0m\u001b[0;34m)\u001b[0m\u001b[0;34m\u001b[0m\u001b[0;34m\u001b[0m\u001b[0m\n\u001b[0m\u001b[1;32m      6\u001b[0m \u001b[0mfa\u001b[0m \u001b[0;34m=\u001b[0m \u001b[0mFaceAligner\u001b[0m\u001b[0;34m(\u001b[0m\u001b[0mpredictor\u001b[0m\u001b[0;34m,\u001b[0m \u001b[0mdesiredFaceWidth\u001b[0m\u001b[0;34m=\u001b[0m\u001b[0;36m64\u001b[0m\u001b[0;34m)\u001b[0m\u001b[0;34m\u001b[0m\u001b[0;34m\u001b[0m\u001b[0m\n",
            "\u001b[0;31mRuntimeError\u001b[0m: Unable to open shape_predictor_68_face_landmarks.dat"
          ]
        }
      ]
    }
  ]
}